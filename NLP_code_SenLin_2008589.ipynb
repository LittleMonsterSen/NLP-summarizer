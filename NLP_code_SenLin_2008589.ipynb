{
  "cells": [
    {
      "cell_type": "code",
      "source": [
        "!nvidia-smi"
      ],
      "metadata": {
        "colab": {
          "base_uri": "https://localhost:8080/"
        },
        "id": "i-JYNiuEPq97",
        "outputId": "16fdb862-8047-4105-da47-a78d18bbc720"
      },
      "execution_count": 24,
      "outputs": [
        {
          "output_type": "stream",
          "name": "stdout",
          "text": [
            "Sun May  1 19:13:43 2022       \n",
            "+-----------------------------------------------------------------------------+\n",
            "| NVIDIA-SMI 460.32.03    Driver Version: 460.32.03    CUDA Version: 11.2     |\n",
            "|-------------------------------+----------------------+----------------------+\n",
            "| GPU  Name        Persistence-M| Bus-Id        Disp.A | Volatile Uncorr. ECC |\n",
            "| Fan  Temp  Perf  Pwr:Usage/Cap|         Memory-Usage | GPU-Util  Compute M. |\n",
            "|                               |                      |               MIG M. |\n",
            "|===============================+======================+======================|\n",
            "|   0  Tesla K80           Off  | 00000000:00:04.0 Off |                    0 |\n",
            "| N/A   73C    P0    75W / 149W |   4874MiB / 11441MiB |      0%      Default |\n",
            "|                               |                      |                  N/A |\n",
            "+-------------------------------+----------------------+----------------------+\n",
            "                                                                               \n",
            "+-----------------------------------------------------------------------------+\n",
            "| Processes:                                                                  |\n",
            "|  GPU   GI   CI        PID   Type   Process name                  GPU Memory |\n",
            "|        ID   ID                                                   Usage      |\n",
            "|=============================================================================|\n",
            "+-----------------------------------------------------------------------------+\n"
          ]
        }
      ]
    },
    {
      "cell_type": "code",
      "execution_count": 25,
      "metadata": {
        "colab": {
          "base_uri": "https://localhost:8080/"
        },
        "id": "pXX5qmNUb6ou",
        "outputId": "ebfa844c-21be-46f3-d542-4c4c26a95539"
      },
      "outputs": [
        {
          "output_type": "stream",
          "name": "stdout",
          "text": [
            "Requirement already satisfied: huggingface in /usr/local/lib/python3.7/dist-packages (0.0.1)\n",
            "Requirement already satisfied: datasets in /usr/local/lib/python3.7/dist-packages (2.1.0)\n",
            "Requirement already satisfied: aiohttp in /usr/local/lib/python3.7/dist-packages (from datasets) (3.8.1)\n",
            "Requirement already satisfied: xxhash in /usr/local/lib/python3.7/dist-packages (from datasets) (3.0.0)\n",
            "Requirement already satisfied: fsspec[http]>=2021.05.0 in /usr/local/lib/python3.7/dist-packages (from datasets) (2022.3.0)\n",
            "Requirement already satisfied: numpy>=1.17 in /usr/local/lib/python3.7/dist-packages (from datasets) (1.21.6)\n",
            "Requirement already satisfied: pandas in /usr/local/lib/python3.7/dist-packages (from datasets) (1.3.5)\n",
            "Requirement already satisfied: multiprocess in /usr/local/lib/python3.7/dist-packages (from datasets) (0.70.12.2)\n",
            "Requirement already satisfied: packaging in /usr/local/lib/python3.7/dist-packages (from datasets) (21.3)\n",
            "Requirement already satisfied: pyarrow>=5.0.0 in /usr/local/lib/python3.7/dist-packages (from datasets) (6.0.1)\n",
            "Requirement already satisfied: requests>=2.19.0 in /usr/local/lib/python3.7/dist-packages (from datasets) (2.23.0)\n",
            "Requirement already satisfied: huggingface-hub<1.0.0,>=0.1.0 in /usr/local/lib/python3.7/dist-packages (from datasets) (0.5.1)\n",
            "Requirement already satisfied: responses<0.19 in /usr/local/lib/python3.7/dist-packages (from datasets) (0.18.0)\n",
            "Requirement already satisfied: tqdm>=4.62.1 in /usr/local/lib/python3.7/dist-packages (from datasets) (4.64.0)\n",
            "Requirement already satisfied: dill in /usr/local/lib/python3.7/dist-packages (from datasets) (0.3.4)\n",
            "Requirement already satisfied: importlib-metadata in /usr/local/lib/python3.7/dist-packages (from datasets) (4.11.3)\n",
            "Requirement already satisfied: typing-extensions>=3.7.4.3 in /usr/local/lib/python3.7/dist-packages (from huggingface-hub<1.0.0,>=0.1.0->datasets) (4.2.0)\n",
            "Requirement already satisfied: pyyaml in /usr/local/lib/python3.7/dist-packages (from huggingface-hub<1.0.0,>=0.1.0->datasets) (6.0)\n",
            "Requirement already satisfied: filelock in /usr/local/lib/python3.7/dist-packages (from huggingface-hub<1.0.0,>=0.1.0->datasets) (3.6.0)\n",
            "Requirement already satisfied: pyparsing!=3.0.5,>=2.0.2 in /usr/local/lib/python3.7/dist-packages (from packaging->datasets) (3.0.8)\n",
            "Requirement already satisfied: urllib3!=1.25.0,!=1.25.1,<1.26,>=1.21.1 in /usr/local/lib/python3.7/dist-packages (from requests>=2.19.0->datasets) (1.25.11)\n",
            "Requirement already satisfied: idna<3,>=2.5 in /usr/local/lib/python3.7/dist-packages (from requests>=2.19.0->datasets) (2.10)\n",
            "Requirement already satisfied: chardet<4,>=3.0.2 in /usr/local/lib/python3.7/dist-packages (from requests>=2.19.0->datasets) (3.0.4)\n",
            "Requirement already satisfied: certifi>=2017.4.17 in /usr/local/lib/python3.7/dist-packages (from requests>=2.19.0->datasets) (2021.10.8)\n",
            "Requirement already satisfied: aiosignal>=1.1.2 in /usr/local/lib/python3.7/dist-packages (from aiohttp->datasets) (1.2.0)\n",
            "Requirement already satisfied: asynctest==0.13.0 in /usr/local/lib/python3.7/dist-packages (from aiohttp->datasets) (0.13.0)\n",
            "Requirement already satisfied: yarl<2.0,>=1.0 in /usr/local/lib/python3.7/dist-packages (from aiohttp->datasets) (1.7.2)\n",
            "Requirement already satisfied: charset-normalizer<3.0,>=2.0 in /usr/local/lib/python3.7/dist-packages (from aiohttp->datasets) (2.0.12)\n",
            "Requirement already satisfied: async-timeout<5.0,>=4.0.0a3 in /usr/local/lib/python3.7/dist-packages (from aiohttp->datasets) (4.0.2)\n",
            "Requirement already satisfied: frozenlist>=1.1.1 in /usr/local/lib/python3.7/dist-packages (from aiohttp->datasets) (1.3.0)\n",
            "Requirement already satisfied: multidict<7.0,>=4.5 in /usr/local/lib/python3.7/dist-packages (from aiohttp->datasets) (6.0.2)\n",
            "Requirement already satisfied: attrs>=17.3.0 in /usr/local/lib/python3.7/dist-packages (from aiohttp->datasets) (21.4.0)\n",
            "Requirement already satisfied: zipp>=0.5 in /usr/local/lib/python3.7/dist-packages (from importlib-metadata->datasets) (3.8.0)\n",
            "Requirement already satisfied: pytz>=2017.3 in /usr/local/lib/python3.7/dist-packages (from pandas->datasets) (2022.1)\n",
            "Requirement already satisfied: python-dateutil>=2.7.3 in /usr/local/lib/python3.7/dist-packages (from pandas->datasets) (2.8.2)\n",
            "Requirement already satisfied: six>=1.5 in /usr/local/lib/python3.7/dist-packages (from python-dateutil>=2.7.3->pandas->datasets) (1.15.0)\n",
            "Requirement already satisfied: transformers in /usr/local/lib/python3.7/dist-packages (4.18.0)\n",
            "Requirement already satisfied: importlib-metadata in /usr/local/lib/python3.7/dist-packages (from transformers) (4.11.3)\n",
            "Requirement already satisfied: numpy>=1.17 in /usr/local/lib/python3.7/dist-packages (from transformers) (1.21.6)\n",
            "Requirement already satisfied: huggingface-hub<1.0,>=0.1.0 in /usr/local/lib/python3.7/dist-packages (from transformers) (0.5.1)\n",
            "Requirement already satisfied: sacremoses in /usr/local/lib/python3.7/dist-packages (from transformers) (0.0.49)\n",
            "Requirement already satisfied: packaging>=20.0 in /usr/local/lib/python3.7/dist-packages (from transformers) (21.3)\n",
            "Requirement already satisfied: pyyaml>=5.1 in /usr/local/lib/python3.7/dist-packages (from transformers) (6.0)\n",
            "Requirement already satisfied: tqdm>=4.27 in /usr/local/lib/python3.7/dist-packages (from transformers) (4.64.0)\n",
            "Requirement already satisfied: tokenizers!=0.11.3,<0.13,>=0.11.1 in /usr/local/lib/python3.7/dist-packages (from transformers) (0.12.1)\n",
            "Requirement already satisfied: filelock in /usr/local/lib/python3.7/dist-packages (from transformers) (3.6.0)\n",
            "Requirement already satisfied: requests in /usr/local/lib/python3.7/dist-packages (from transformers) (2.23.0)\n",
            "Requirement already satisfied: regex!=2019.12.17 in /usr/local/lib/python3.7/dist-packages (from transformers) (2019.12.20)\n",
            "Requirement already satisfied: typing-extensions>=3.7.4.3 in /usr/local/lib/python3.7/dist-packages (from huggingface-hub<1.0,>=0.1.0->transformers) (4.2.0)\n",
            "Requirement already satisfied: pyparsing!=3.0.5,>=2.0.2 in /usr/local/lib/python3.7/dist-packages (from packaging>=20.0->transformers) (3.0.8)\n",
            "Requirement already satisfied: zipp>=0.5 in /usr/local/lib/python3.7/dist-packages (from importlib-metadata->transformers) (3.8.0)\n",
            "Requirement already satisfied: urllib3!=1.25.0,!=1.25.1,<1.26,>=1.21.1 in /usr/local/lib/python3.7/dist-packages (from requests->transformers) (1.25.11)\n",
            "Requirement already satisfied: certifi>=2017.4.17 in /usr/local/lib/python3.7/dist-packages (from requests->transformers) (2021.10.8)\n",
            "Requirement already satisfied: chardet<4,>=3.0.2 in /usr/local/lib/python3.7/dist-packages (from requests->transformers) (3.0.4)\n",
            "Requirement already satisfied: idna<3,>=2.5 in /usr/local/lib/python3.7/dist-packages (from requests->transformers) (2.10)\n",
            "Requirement already satisfied: joblib in /usr/local/lib/python3.7/dist-packages (from sacremoses->transformers) (1.1.0)\n",
            "Requirement already satisfied: click in /usr/local/lib/python3.7/dist-packages (from sacremoses->transformers) (7.1.2)\n",
            "Requirement already satisfied: six in /usr/local/lib/python3.7/dist-packages (from sacremoses->transformers) (1.15.0)\n",
            "Requirement already satisfied: rouge-score in /usr/local/lib/python3.7/dist-packages (0.0.4)\n",
            "Requirement already satisfied: numpy in /usr/local/lib/python3.7/dist-packages (from rouge-score) (1.21.6)\n",
            "Requirement already satisfied: absl-py in /usr/local/lib/python3.7/dist-packages (from rouge-score) (1.0.0)\n",
            "Requirement already satisfied: nltk in /usr/local/lib/python3.7/dist-packages (from rouge-score) (3.2.5)\n",
            "Requirement already satisfied: six>=1.14.0 in /usr/local/lib/python3.7/dist-packages (from rouge-score) (1.15.0)\n",
            "Requirement already satisfied: torchplot in /usr/local/lib/python3.7/dist-packages (0.2.0)\n",
            "Requirement already satisfied: torch>=1.3 in /usr/local/lib/python3.7/dist-packages (from torchplot) (1.11.0+cu113)\n",
            "Requirement already satisfied: matplotlib>=3.1.3 in /usr/local/lib/python3.7/dist-packages (from torchplot) (3.2.2)\n",
            "Requirement already satisfied: python-dateutil>=2.1 in /usr/local/lib/python3.7/dist-packages (from matplotlib>=3.1.3->torchplot) (2.8.2)\n",
            "Requirement already satisfied: kiwisolver>=1.0.1 in /usr/local/lib/python3.7/dist-packages (from matplotlib>=3.1.3->torchplot) (1.4.2)\n",
            "Requirement already satisfied: cycler>=0.10 in /usr/local/lib/python3.7/dist-packages (from matplotlib>=3.1.3->torchplot) (0.11.0)\n",
            "Requirement already satisfied: numpy>=1.11 in /usr/local/lib/python3.7/dist-packages (from matplotlib>=3.1.3->torchplot) (1.21.6)\n",
            "Requirement already satisfied: pyparsing!=2.0.4,!=2.1.2,!=2.1.6,>=2.0.1 in /usr/local/lib/python3.7/dist-packages (from matplotlib>=3.1.3->torchplot) (3.0.8)\n",
            "Requirement already satisfied: typing-extensions in /usr/local/lib/python3.7/dist-packages (from kiwisolver>=1.0.1->matplotlib>=3.1.3->torchplot) (4.2.0)\n",
            "Requirement already satisfied: six>=1.5 in /usr/local/lib/python3.7/dist-packages (from python-dateutil>=2.1->matplotlib>=3.1.3->torchplot) (1.15.0)\n"
          ]
        }
      ],
      "source": [
        "!pip install huggingface\n",
        "!pip install datasets\n",
        "!pip install transformers\n",
        "!pip install rouge-score\n",
        "!pip install torchplot"
      ]
    },
    {
      "cell_type": "code",
      "execution_count": 26,
      "metadata": {
        "colab": {
          "base_uri": "https://localhost:8080/"
        },
        "id": "Pwk9TK8GcRWz",
        "outputId": "a4bbbf51-32ec-469d-84b2-f3aacacd44c7"
      },
      "outputs": [
        {
          "output_type": "stream",
          "name": "stdout",
          "text": [
            "[nltk_data] Downloading package averaged_perceptron_tagger to\n",
            "[nltk_data]     /root/nltk_data...\n",
            "[nltk_data]   Package averaged_perceptron_tagger is already up-to-\n",
            "[nltk_data]       date!\n"
          ]
        }
      ],
      "source": [
        "import huggingface\n",
        "from datasets import load_dataset\n",
        "from transformers import pipeline\n",
        "import nltk\n",
        "from nltk.tag import pos_tag\n",
        "nltk.download('averaged_perceptron_tagger')\n",
        "import torch\n",
        "import torch.nn as nn\n",
        "import torch.nn.functional as F\n",
        "from scipy import stats"
      ]
    },
    {
      "cell_type": "code",
      "execution_count": 27,
      "metadata": {
        "id": "DcLjGsSqITo_"
      },
      "outputs": [],
      "source": [
        "device = torch.device('cuda')"
      ]
    },
    {
      "cell_type": "code",
      "execution_count": 28,
      "metadata": {
        "colab": {
          "base_uri": "https://localhost:8080/",
          "height": 66,
          "referenced_widgets": [
            "c2cdf20a3ff34e5084cacf7822480742",
            "ffc3286cf2c74bb7affe0c1939829a8d",
            "4969b4963e9449329eac5addf4ccff7f",
            "1d5cccb291d547579bdf1cb72adfb18f",
            "3c66df1eb89c4a7abc15d6962bfbcba1",
            "f11488bd5d2040ab90c6801a6871cdb1",
            "338ee99a576b41a1bb033acf7e6160a3",
            "5b5aee9a3c6441428be594db6d58c7ad",
            "8fe85b3d065f468f80fe49d9333b6687",
            "f5fbba7c266c4866be3e8a340f4bb73c",
            "c50896d7704d43e3bfe1958e1ff33193"
          ]
        },
        "id": "zArWIlrEapdo",
        "outputId": "de2788f7-7f86-45b0-a013-dd0c8ec028ec"
      },
      "outputs": [
        {
          "output_type": "stream",
          "name": "stderr",
          "text": [
            "Reusing dataset cnn_dailymail (/root/.cache/huggingface/datasets/cnn_dailymail/3.0.0/3.0.0/3cb851bf7cf5826e45d49db2863f627cba583cbc32342df7349dfe6c38060234)\n"
          ]
        },
        {
          "output_type": "display_data",
          "data": {
            "text/plain": [
              "  0%|          | 0/3 [00:00<?, ?it/s]"
            ],
            "application/vnd.jupyter.widget-view+json": {
              "version_major": 2,
              "version_minor": 0,
              "model_id": "c2cdf20a3ff34e5084cacf7822480742"
            }
          },
          "metadata": {}
        }
      ],
      "source": [
        "cnn_daily = load_dataset('cnn_dailymail','3.0.0')"
      ]
    },
    {
      "cell_type": "code",
      "execution_count": 29,
      "metadata": {
        "id": "faD3m-DUcX3u",
        "colab": {
          "base_uri": "https://localhost:8080/"
        },
        "outputId": "5ba93e05-b156-4170-aa63-d7c5b59df4ec"
      },
      "outputs": [
        {
          "output_type": "stream",
          "name": "stderr",
          "text": [
            "Loading cached shuffled indices for dataset at /root/.cache/huggingface/datasets/cnn_dailymail/3.0.0/3.0.0/3cb851bf7cf5826e45d49db2863f627cba583cbc32342df7349dfe6c38060234/cache-6515e5a88713b87d.arrow\n",
            "Loading cached shuffled indices for dataset at /root/.cache/huggingface/datasets/cnn_dailymail/3.0.0/3.0.0/3cb851bf7cf5826e45d49db2863f627cba583cbc32342df7349dfe6c38060234/cache-8574e5f176906dfb.arrow\n",
            "Loading cached shuffled indices for dataset at /root/.cache/huggingface/datasets/cnn_dailymail/3.0.0/3.0.0/3cb851bf7cf5826e45d49db2863f627cba583cbc32342df7349dfe6c38060234/cache-910a0e10eda294ba.arrow\n"
          ]
        }
      ],
      "source": [
        "small_train_dataset = cnn_daily[\"train\"].shuffle(seed=42).select(range(1000))\n",
        "small_valid_dataset = cnn_daily[\"validation\"].shuffle(seed=42).select(range(1000))\n",
        "small_test_dataset = cnn_daily[\"test\"].shuffle(seed=42).select(range(5000))"
      ]
    },
    {
      "cell_type": "code",
      "execution_count": 30,
      "metadata": {
        "id": "FXXYH1TncbZN"
      },
      "outputs": [],
      "source": [
        "from transformers import BertTokenizer, BertModel"
      ]
    },
    {
      "cell_type": "code",
      "execution_count": 31,
      "metadata": {
        "id": "_Gz110jdch-w"
      },
      "outputs": [],
      "source": [
        "sample = {'article': 'It\\'s official: U.S. President Barack Obama wants lawmakers to weigh in on whether to use military force in Syria. Obama sent a letter to the heads of the House and Senate on Saturday night, hours after announcing that he believes military action against Syrian targets is the right step to take over the alleged use of chemical weapons. The proposed legislation from Obama asks Congress to approve the use of military force \"to deter, disrupt, prevent and degrade the potential for future uses of chemical weapons or other weapons of mass destruction.\" It\\'s a step that is set to turn an international crisis into a fierce domestic political battle. There are key questions looming over the debate: What did U.N. weapons inspectors find in Syria? What happens if Congress votes no? And how will the Syrian government react? In a televised address from the White House Rose Garden earlier Saturday, the president said he would take his case to Congress, not because he has to -- but because he wants to. \"While I believe I have the authority to carry out this military action without specific congressional authorization, I know that the country will be stronger if we take this course, and our actions will be even more effective,\" he said. \"We should have this debate, because the issues are too big for business as usual.\" Obama said top congressional leaders had agreed to schedule a debate when the body returns to Washington on September 9. The Senate Foreign Relations Committee will hold a hearing over the matter on Tuesday, Sen. Robert Menendez said. Transcript: Read Obama\\'s full remarks . Syrian crisis: Latest developments . U.N. inspectors leave Syria . Obama\\'s remarks came shortly after U.N. inspectors left Syria, carrying evidence that will determine whether chemical weapons were used in an attack early last week in a Damascus suburb. \"The aim of the game here, the mandate, is very clear -- and that is to ascertain whether chemical weapons were used -- and not by whom,\" U.N. spokesman Martin Nesirky told reporters on Saturday. But who used the weapons in the reported toxic gas attack in a Damascus suburb on August 21 has been a key point of global debate over the Syrian crisis. Top U.S. officials have said there\\'s no doubt that the Syrian government was behind it, while Syrian officials have denied responsibility and blamed jihadists fighting with the rebels. British and U.S. intelligence reports say the attack involved chemical weapons, but U.N. officials have stressed the importance of waiting for an official report from inspectors. The inspectors will share their findings with U.N. Secretary-General Ban Ki-moon Ban, who has said he wants to wait until the U.N. team\\'s final report is completed before presenting it to the U.N. Security Council. The Organization for the Prohibition of Chemical Weapons, which nine of the inspectors belong to, said Saturday that it could take up to three weeks to analyze the evidence they collected. \"It needs time to be able to analyze the information and the samples,\" Nesirky said. He noted that Ban has repeatedly said there is no alternative to a political solution to the crisis in Syria, and that \"a military solution is not an option.\" Bergen:  Syria is a problem from hell for the U.S. Obama: \\'This menace must be confronted\\' Obama\\'s senior advisers have debated the next steps to take, and the president\\'s comments Saturday came amid mounting political pressure over the situation in Syria. Some U.S. lawmakers have called for immediate action while others warn of stepping into what could become a quagmire. Some global leaders have expressed support, but the British Parliament\\'s vote against military action earlier this week was a blow to Obama\\'s hopes of getting strong backing from key NATO allies. On Saturday, Obama proposed what he said would be a limited military action against Syrian President Bashar al-Assad. Any military attack would not be open-ended or include U.S. ground forces, he said. Syria\\'s alleged use of chemical weapons earlier this month \"is an assault on human dignity,\" the president said. A failure to respond with force, Obama argued,  \"could lead to escalating use of chemical weapons or their proliferation to terrorist groups who would do our people harm. In a world with many dangers, this menace must be confronted.\" Syria missile strike: What would happen next? Map: U.S. and allied assets around Syria . Obama decision came Friday night . On Friday night, the president made a last-minute decision to consult lawmakers. What will happen if they vote no? It\\'s unclear. A senior administration official told CNN that Obama has the authority to act without Congress -- even if Congress rejects his request for authorization to use force. Obama on Saturday continued to shore up support for a strike on the al-Assad government. He spoke by phone with French President Francois Hollande before his Rose Garden speech. \"The two leaders agreed that the international community must deliver a resolute message to the Assad regime -- and others who would consider using chemical weapons -- that these crimes are unacceptable and those who violate this international norm will be held accountable by the world,\" the White House said. Meanwhile, as uncertainty loomed over how Congress would weigh in, U.S. military officials said they remained at the ready. 5 key assertions: U.S. intelligence report on Syria . Syria: Who wants what after chemical weapons horror . Reactions mixed to Obama\\'s speech . A spokesman for the Syrian National Coalition said that the opposition group was disappointed by Obama\\'s announcement. \"Our fear now is that the lack of action could embolden the regime and they repeat his attacks in a more serious way,\" said spokesman Louay Safi. \"So we are quite concerned.\" Some members of Congress applauded Obama\\'s decision. House Speaker John Boehner, Majority Leader Eric Cantor, Majority Whip Kevin McCarthy and Conference Chair Cathy McMorris Rodgers issued a statement Saturday praising the president. \"Under the Constitution, the responsibility to declare war lies with Congress,\" the Republican lawmakers said. \"We are glad the president is seeking authorization for any military action in Syria in response to serious, substantive questions being raised.\" More than 160 legislators, including 63 of Obama\\'s fellow Democrats, had signed letters calling for either a vote or at least a \"full debate\" before any U.S. action. British Prime Minister David Cameron, whose own attempt to get lawmakers in his country to support military action in Syria failed earlier this week, responded to Obama\\'s speech in a Twitter post Saturday. \"I understand and support Barack Obama\\'s position on Syria,\" Cameron said. An influential lawmaker in Russia -- which has stood by Syria and criticized the United States -- had his own theory. \"The main reason Obama is turning to the Congress:  the military operation did not get enough support either in the world, among allies of the US or in the United States itself,\" Alexei Pushkov, chairman of the international-affairs committee of the Russian State Duma, said in a Twitter post. In the United States, scattered groups of anti-war protesters around the country took to the streets Saturday. \"Like many other Americans...we\\'re just tired of the United States getting involved and invading and bombing other countries,\" said Robin Rosecrans, who was among hundreds at a Los Angeles demonstration. What do Syria\\'s neighbors think? Why Russia, China, Iran stand by Assad . Syria\\'s government unfazed . After Obama\\'s speech, a military and political analyst on Syrian state TV said Obama is \"embarrassed\" that Russia opposes military action against Syria, is \"crying for help\" for someone to come to his rescue and is facing two defeats -- on the political and military levels. Syria\\'s prime minister appeared unfazed by the saber-rattling. \"The Syrian Army\\'s status is on maximum readiness and fingers are on the trigger to confront all challenges,\" Wael Nader al-Halqi said during a meeting with a delegation of Syrian expatriates from Italy, according to a banner on Syria State TV that was broadcast prior to Obama\\'s address. An anchor on Syrian state television said Obama \"appeared to be preparing for an aggression on Syria based on repeated lies.\" A top Syrian diplomat told the state television network that Obama was facing pressure to take military action from Israel, Turkey, some Arabs and right-wing extremists in the United States. \"I think he has done well by doing what Cameron did in terms of taking the issue to Parliament,\" said Bashar Jaafari, Syria\\'s ambassador to the United Nations. Both Obama and Cameron, he said, \"climbed to the top of the tree and don\\'t know how to get down.\" The Syrian government has denied that it used chemical weapons in the August 21 attack, saying that jihadists fighting with the rebels used them in an effort to turn global sentiments against it. British intelligence had put the number of people killed in the attack at more than 350. On Saturday, Obama said \"all told, well over 1,000 people were murdered.\" U.S. Secretary of State John Kerry on Friday cited a death toll of 1,429, more than 400 of them children. No explanation was offered for the discrepancy. Iran: U.S. military action in Syria would spark \\'disaster\\' Opinion: Why strikes in Syria are a bad idea .',\n",
        " 'highlights': 'Syrian official: Obama climbed to the top of the tree, \"doesn\\'t know how to get down\"\\nObama sends a letter to the heads of the House and Senate .\\nObama to seek congressional approval on military action against Syria .\\nAim is to determine whether CW were used, not by whom, says U.N. spokesman .',\n",
        " 'id': '0001d1afc246a7964130f43ae940af6bc6c57f01'}"
      ]
    },
    {
      "cell_type": "code",
      "execution_count": 32,
      "metadata": {
        "id": "5tvh2SvNcrNv",
        "colab": {
          "base_uri": "https://localhost:8080/"
        },
        "outputId": "790defd8-059b-43ba-ea75-5bb4ce2c1ce5"
      },
      "outputs": [
        {
          "output_type": "stream",
          "name": "stderr",
          "text": [
            "Some weights of the model checkpoint at bert-base-uncased were not used when initializing BertModel: ['cls.predictions.transform.LayerNorm.weight', 'cls.predictions.transform.dense.bias', 'cls.seq_relationship.weight', 'cls.predictions.bias', 'cls.predictions.transform.dense.weight', 'cls.predictions.decoder.weight', 'cls.seq_relationship.bias', 'cls.predictions.transform.LayerNorm.bias']\n",
            "- This IS expected if you are initializing BertModel from the checkpoint of a model trained on another task or with another architecture (e.g. initializing a BertForSequenceClassification model from a BertForPreTraining model).\n",
            "- This IS NOT expected if you are initializing BertModel from the checkpoint of a model that you expect to be exactly identical (initializing a BertForSequenceClassification model from a BertForSequenceClassification model).\n"
          ]
        }
      ],
      "source": [
        "batchsize=1\n",
        "bertbase = BertModel.from_pretrained(\"bert-base-uncased\")\n",
        "Btokenizer = BertTokenizer.from_pretrained('bert-base-uncased')\n",
        "\n",
        "class WordImportance(nn.Module):\n",
        "    def __init__(self):\n",
        "          super(WordImportance, self).__init__()\n",
        "          self.bert = bertbase\n",
        "          self.tokenizer = Btokenizer\n",
        "          self.get_query = nn.Linear(768,768)\n",
        "          self.get_key = nn.Linear(768,768)          \n",
        "\n",
        "\n",
        "    def forward(self, x):\n",
        "          \n",
        "          embedding = self.bert(**x)\n",
        "\n",
        "          from_tensor = embedding['last_hidden_state']\n",
        "          to_tensor = embedding['last_hidden_state']\n",
        "\n",
        "          query_for_attention = self.get_query(from_tensor)\n",
        "          query_size = query_for_attention.size()\n",
        "          query_for_attention = query_for_attention.reshape(query_size[-2],query_size[-1])\n",
        "          key_for_attention = self.get_key(to_tensor)\n",
        "          key_size = key_for_attention.size()\n",
        "          key_for_attention = key_for_attention.reshape(key_size[-2],key_size[-1])\n",
        "          \n",
        "          attention_score = torch.matmul(query_for_attention,key_for_attention.transpose(0,1))/torch.sqrt(torch.tensor(768))\n",
        "          attention_size = attention_score.size()\n",
        "          attention_distribution = F.softmax(attention_score.reshape(attention_size[-2]*attention_size[-1])).reshape(attention_size[-2],attention_size[-1]).sum(1)\n",
        "          attention_seq_len = attention_distribution.size()[-1]\n",
        "          attention_distribution = attention_distribution.reshape(attention_seq_len,1,1)\n",
        "       \n",
        "\n",
        "          return attention_distribution"
      ]
    },
    {
      "cell_type": "code",
      "execution_count": 33,
      "metadata": {
        "colab": {
          "base_uri": "https://localhost:8080/"
        },
        "id": "UPwAhRBUdcKI",
        "outputId": "6b288b11-01f8-45c6-f8e7-a8c7a7175383"
      },
      "outputs": [
        {
          "output_type": "stream",
          "name": "stderr",
          "text": [
            "/usr/local/lib/python3.7/dist-packages/ipykernel_launcher.py:30: UserWarning: Implicit dimension choice for softmax has been deprecated. Change the call to include dim=X as an argument.\n"
          ]
        }
      ],
      "source": [
        "model = WordImportance().to(device)\n",
        "encoded_input = Btokenizer(sample['article'],padding='max_length',truncation=True, return_tensors='pt').to(device)\n",
        "wordscore = model(x = encoded_input)"
      ]
    },
    {
      "cell_type": "code",
      "execution_count": 34,
      "metadata": {
        "id": "y0Wdoz36eJgs"
      },
      "outputs": [],
      "source": [
        "import gensim\n",
        "from gensim import summarization\n",
        "from itertools import combinations\n",
        "import random"
      ]
    },
    {
      "cell_type": "code",
      "execution_count": 35,
      "metadata": {
        "id": "JkY-7FN8oM70"
      },
      "outputs": [],
      "source": [
        "class SummaryGenerator(nn.Module):\n",
        "# x is tokens in article\n",
        "# budget is num of sentence extracted as summary\n",
        "# text is article where extracted summarization comes from as well as tokens (x)  \n",
        "\n",
        "  def text_split(self,text):\n",
        "    split_text = []\n",
        "    for sentence in summarization.textcleaner.get_sentences(text):\n",
        "      split_text.append(sentence)\n",
        "    return split_text   \n",
        "\n",
        "  def get_truncation_length(self,splited_text):\n",
        "    truncation_length = []\n",
        "    for sent in splited_text:\n",
        "      truncation_length.append(len(Btokenizer.tokenize(sent)))\n",
        "\n",
        "    return truncation_length\n",
        "\n",
        "\n",
        "  def get_sentence_score(self, wordscore, truncation_length):\n",
        "    add = 0\n",
        "    sentence_score = []\n",
        "    for i,length in enumerate(truncation_length):\n",
        "      prob_seq = wordscore[range(add,add+length)]\n",
        "      score = -torch.mul(prob_seq,prob_seq.log()).sum() + prob_seq.sum()\n",
        "      sentence_score.append(score)\n",
        "      add = add + length\n",
        "\n",
        "    return sentence_score#geometric_mean_score\n",
        "\n",
        "  def find_important_sentence_hard(self, score,budget):\n",
        "    score = torch.Tensor(score)\n",
        "    order = []\n",
        "    while budget>0:\n",
        "      best_sent = torch.where(score==score.max())[0].tolist()\n",
        "      num_best_sent = len(best_sent)\n",
        "      if num_best_sent>budget:\n",
        "        order =  best_sent[0:budget]\n",
        "        budget = budget - budget\n",
        "\n",
        "      else:\n",
        "        order = order + best_sent\n",
        "        for i in best_sent:\n",
        "          score[i] = 0\n",
        "        budget = budget - num_best_sent\n",
        "    return order\n",
        "    \n",
        "\n",
        "  def forward(self,text,wordscore,budget): \n",
        "    split_text = self.text_split(text)\n",
        "    sentence_length = self.get_truncation_length(split_text)\n",
        "    sentence_score = self.get_sentence_score(wordscore, sentence_length)\n",
        "    sentence_order = self.find_important_sentence_hard(sentence_score,budget)\n",
        "    summary = \" \".join(split_text[i] for i in sorted(sentence_order))\n",
        "\n",
        "    return summary,sentence_order,sentence_score\n",
        "\n"
      ]
    },
    {
      "cell_type": "code",
      "execution_count": 36,
      "metadata": {
        "id": "SF829UfgtYFQ"
      },
      "outputs": [],
      "source": [
        "summary_generator = SummaryGenerator()\n",
        "text_to_extract=Btokenizer.decode(encoded_input['input_ids'][0].tolist())\n",
        "summary,sentence_order,sentence_score = summary_generator(text_to_extract,wordscore,4)"
      ]
    },
    {
      "cell_type": "code",
      "execution_count": 37,
      "metadata": {
        "id": "1gp4tD9qpEZM",
        "colab": {
          "base_uri": "https://localhost:8080/",
          "height": 122
        },
        "outputId": "1283c4eb-dda6-42b4-e0be-1f56cb16e44b"
      },
      "outputs": [
        {
          "output_type": "execute_result",
          "data": {
            "text/plain": [
              "'obama sent a letter to the heads of the house and senate on saturday night, hours after announcing that he believes military action against syrian targets is the right step to take over the alleged use of chemical weapons. the proposed legislation from obama asks congress to approve the use of military force \" to deter, disrupt, prevent and degrade the potential for future uses of chemical weapons or other weapons of mass destruction. in a televised address from the white house rose garden earlier saturday, the president said he would take his case to congress, not because he has to - - but because he wants to. \" while i believe i have the authority to carry out this military action without specific congressional authorization, i know that the country will be stronger if we take this course, and our actions will be even more effective, \" he said.'"
            ],
            "application/vnd.google.colaboratory.intrinsic+json": {
              "type": "string"
            }
          },
          "metadata": {},
          "execution_count": 37
        }
      ],
      "source": [
        "summary"
      ]
    },
    {
      "cell_type": "code",
      "execution_count": 38,
      "metadata": {
        "id": "q5BJ3iPGW4CV"
      },
      "outputs": [],
      "source": [
        "class SummaryGenerator2(nn.Module):\n",
        "# x is tokens in article\n",
        "# budget is num of sentence extracted as summary\n",
        "# text is article where extracted summarization comes from as well as tokens (x)  \n",
        "\n",
        "  def text_split(self,text):\n",
        "    split_text = []\n",
        "    for sentence in summarization.textcleaner.get_sentences(text):\n",
        "      split_text.append(sentence)\n",
        "    return split_text   \n",
        "\n",
        "  def get_truncation_length(self,splited_text):\n",
        "    truncation_length = []\n",
        "    for sent in splited_text:\n",
        "      truncation_length.append(len(Btokenizer.tokenize(sent)))\n",
        "\n",
        "    return truncation_length\n",
        "\n",
        "\n",
        "  def get_sentence_score(self, wordscore, truncation_length):\n",
        "    add = 0\n",
        "    sentence_H = []\n",
        "    sentence_P = []\n",
        "    for i,length in enumerate(truncation_length):\n",
        "      prob_seq = wordscore[range(add,add+length)]\n",
        "      H = -torch.mul(prob_seq,prob_seq.log()).sum()\n",
        "      P = prob_seq.sum()\n",
        "      sentence_H.append(H)\n",
        "      sentence_P.append(P)\n",
        "      add = add + length\n",
        "    sentence_H = torch.Tensor(sentence_H)\n",
        "    sentence_P = torch.Tensor(sentence_P)\n",
        "    return sentence_H,sentence_P\n",
        "\n",
        "\n",
        "  def summary_combination(self,sentence_length,budget,H,P):\n",
        "    sent_set = range(len(sentence_length))\n",
        "    candidate_combine = list(combinations(sent_set,budget))\n",
        "    summary_E = []\n",
        "    for candidate in candidate_combine:\n",
        "      E = -H[list(candidate)].sum()/P[list(candidate)].sum() + P[list(candidate)].sum().log()\n",
        "      summary_E.append(E.item())\n",
        "\n",
        "    summary_E = torch.Tensor(summary_E)\n",
        "    selection_best_candidate = torch.where(summary_E == summary_E.max())[0]\n",
        "    best_candidate = [candidate_combine[i] for i in selection_best_candidate.tolist()]\n",
        "\n",
        "    return best_candidate\n",
        "\n",
        "  def forward(self,text,wordscore,budget): \n",
        "    split_text = self.text_split(text)\n",
        "    sentence_length = self.get_truncation_length(split_text)\n",
        "    sentence_H, sentence_P= self.get_sentence_score(wordscore, sentence_length)\n",
        "    sentence_order = self.summary_combination(sentence_length,budget,sentence_H,sentence_P)\n",
        "    sentence_order = sentence_order[0]\n",
        "\n",
        "    summary = [split_text[i] for i in sorted(list(sentence_order))]\n",
        "    summary = \" \".join(summary)\n",
        "\n",
        "    return summary,sentence_order,sentence_H,sentence_P\n",
        "\n"
      ]
    },
    {
      "cell_type": "code",
      "execution_count": 39,
      "metadata": {
        "id": "9VXvxQhUWYG9"
      },
      "outputs": [],
      "source": [
        "summary_generator2 = SummaryGenerator2()\n",
        "summary,sentence_order2,sentence_H,sentence_P = summary_generator2(text_to_extract,wordscore,3)"
      ]
    },
    {
      "cell_type": "code",
      "execution_count": 40,
      "metadata": {
        "id": "rL-Q0LFIZn-z",
        "colab": {
          "base_uri": "https://localhost:8080/"
        },
        "outputId": "eb71925e-3baa-4c51-d6bc-cb37c09479a9"
      },
      "outputs": [
        {
          "output_type": "execute_result",
          "data": {
            "text/plain": [
              "[(2, 9, 10)]"
            ]
          },
          "metadata": {},
          "execution_count": 40
        }
      ],
      "source": [
        "[sentence_order2]"
      ]
    },
    {
      "cell_type": "code",
      "execution_count": 41,
      "metadata": {
        "id": "h8ZONT1ZRAfj",
        "colab": {
          "base_uri": "https://localhost:8080/"
        },
        "outputId": "033bcac1-db09-4149-e0e7-231df7ddbad8"
      },
      "outputs": [
        {
          "output_type": "execute_result",
          "data": {
            "text/plain": [
              "(2, 9, 10)"
            ]
          },
          "metadata": {},
          "execution_count": 41
        }
      ],
      "source": [
        "random.choice([sentence_order2])"
      ]
    },
    {
      "cell_type": "code",
      "execution_count": 42,
      "metadata": {
        "id": "G6SaPWTsco8E"
      },
      "outputs": [],
      "source": [
        "from rouge_score import rouge_scorer\n",
        "rouge = rouge_scorer.RougeScorer(['rouge1', 'rouge2','rougeL'], use_stemmer=True)"
      ]
    },
    {
      "cell_type": "code",
      "execution_count": 43,
      "metadata": {
        "id": "4IlbTRZje6co"
      },
      "outputs": [],
      "source": [
        "import matplotlib.pyplot as plt"
      ]
    },
    {
      "cell_type": "code",
      "execution_count": 44,
      "metadata": {
        "id": "653dmKCGTE_F",
        "colab": {
          "base_uri": "https://localhost:8080/"
        },
        "outputId": "4f9a836b-6d57-4a30-e477-a2e71fd370ac"
      },
      "outputs": [
        {
          "output_type": "stream",
          "name": "stdout",
          "text": [
            "Drive already mounted at /content/drive; to attempt to forcibly remount, call drive.mount(\"/content/drive\", force_remount=True).\n"
          ]
        }
      ],
      "source": [
        "from google.colab import drive\n",
        "drive.mount('/content/drive')"
      ]
    },
    {
      "cell_type": "code",
      "execution_count": 45,
      "metadata": {
        "id": "ozQBvLIGGgE5"
      },
      "outputs": [],
      "source": [
        "num_epochs = 5\n",
        "learning_rate = 1e-2\n",
        "optimizer = torch.optim.Adam(model.parameters(), lr=learning_rate)\n",
        "\n",
        "def train_G(model, training_data,validation_data, num_epochs=num_epochs, verbose=True):\n",
        "    train_loss1 =[]\n",
        "    #train_loss2 =[]\n",
        "    train_loss3 =[]\n",
        "    valid_loss = []\n",
        "    model.train(True)\n",
        "    for epoch in range(num_epochs):\n",
        "        #training_data.shuffle(seed=42)\n",
        "        for i, t in enumerate(training_data):\n",
        "          if i<50000:\n",
        "            # Forward pass            \n",
        "            article_text = Btokenizer(t['article'], padding=\"max_length\", truncation=True, return_tensors='pt').to(device)\n",
        "            article_attention = model(x = article_text)\n",
        "            \n",
        "            loss1 = F.relu(-torch.mul(article_attention,article_attention.log()).sum()) ### decrease entropy of article\n",
        "            loss3 = torch.linalg.norm(article_attention.reshape(512),2)**2\n",
        "            loss = loss1+loss3\n",
        "            \n",
        "            train_loss1.append(loss1.item())\n",
        "            train_loss3.append(loss3.item())\n",
        "            \n",
        "            valid_text = Btokenizer(validation_data[i]['article'], padding=\"max_length\", truncation=True, return_tensors='pt').to(device)\n",
        "            valid_attention = model(x = valid_text)\n",
        "            lossv = -torch.mul(valid_attention,valid_attention.log()).sum() + torch.linalg.norm(valid_attention.reshape(512),2)**2\n",
        "            valid_loss.append(lossv.item())\n",
        "\n",
        "            optimizer.zero_grad()\n",
        "            loss.backward()\n",
        "            optimizer.step()\n",
        "\n",
        "            if verbose:\n",
        "                if (i+1) % 1 == 0:\n",
        "                    print (\"Epoch[{}/{}], Step [{}/{}], Loss1: {:.4f},  Loss3: {:.4f}\" \n",
        "                           .format(epoch+1, num_epochs, i+1, len(training_data), loss1.item(),loss3.item()))\n",
        "    \n",
        "\n",
        "\n",
        "    return train_loss1,train_loss3,valid_loss"
      ]
    },
    {
      "cell_type": "code",
      "execution_count": 46,
      "metadata": {
        "id": "0u6PYqwfIP-y",
        "colab": {
          "base_uri": "https://localhost:8080/"
        },
        "outputId": "b5649a6e-ccdb-46c9-b2e3-1354e47cc8cb"
      },
      "outputs": [
        {
          "output_type": "stream",
          "name": "stderr",
          "text": [
            "/usr/local/lib/python3.7/dist-packages/ipykernel_launcher.py:30: UserWarning: Implicit dimension choice for softmax has been deprecated. Change the call to include dim=X as an argument.\n"
          ]
        },
        {
          "output_type": "stream",
          "name": "stdout",
          "text": [
            "Epoch[1/1], Step [1/1000], Loss1: 6.2374,  Loss3: 0.0020\n",
            "Epoch[1/1], Step [2/1000], Loss1: 6.2374,  Loss3: 0.0020\n",
            "Epoch[1/1], Step [3/1000], Loss1: 6.2363,  Loss3: 0.0020\n",
            "Epoch[1/1], Step [4/1000], Loss1: 6.2349,  Loss3: 0.0020\n",
            "Epoch[1/1], Step [5/1000], Loss1: 6.2323,  Loss3: 0.0020\n",
            "Epoch[1/1], Step [6/1000], Loss1: 6.2113,  Loss3: 0.0021\n",
            "Epoch[1/1], Step [7/1000], Loss1: 6.2355,  Loss3: 0.0020\n",
            "Epoch[1/1], Step [8/1000], Loss1: 6.2351,  Loss3: 0.0020\n",
            "Epoch[1/1], Step [9/1000], Loss1: 6.2342,  Loss3: 0.0020\n",
            "Epoch[1/1], Step [10/1000], Loss1: 6.2333,  Loss3: 0.0020\n",
            "Epoch[1/1], Step [11/1000], Loss1: 6.2316,  Loss3: 0.0020\n",
            "Epoch[1/1], Step [12/1000], Loss1: 6.2296,  Loss3: 0.0020\n",
            "Epoch[1/1], Step [13/1000], Loss1: 6.2273,  Loss3: 0.0020\n",
            "Epoch[1/1], Step [14/1000], Loss1: 6.2237,  Loss3: 0.0020\n",
            "Epoch[1/1], Step [15/1000], Loss1: 6.2219,  Loss3: 0.0020\n",
            "Epoch[1/1], Step [16/1000], Loss1: 6.2162,  Loss3: 0.0020\n",
            "Epoch[1/1], Step [17/1000], Loss1: 6.2135,  Loss3: 0.0021\n",
            "Epoch[1/1], Step [18/1000], Loss1: 6.2019,  Loss3: 0.0021\n",
            "Epoch[1/1], Step [19/1000], Loss1: 6.1994,  Loss3: 0.0021\n",
            "Epoch[1/1], Step [20/1000], Loss1: 6.2020,  Loss3: 0.0021\n",
            "Epoch[1/1], Step [21/1000], Loss1: 6.1779,  Loss3: 0.0022\n",
            "Epoch[1/1], Step [22/1000], Loss1: 6.1862,  Loss3: 0.0022\n",
            "Epoch[1/1], Step [23/1000], Loss1: 6.1662,  Loss3: 0.0023\n",
            "Epoch[1/1], Step [24/1000], Loss1: 6.1347,  Loss3: 0.0024\n",
            "Epoch[1/1], Step [25/1000], Loss1: 6.0170,  Loss3: 0.0035\n",
            "Epoch[1/1], Step [26/1000], Loss1: 4.3929,  Loss3: 0.0248\n",
            "Epoch[1/1], Step [27/1000], Loss1: 6.1691,  Loss3: 0.0023\n",
            "Epoch[1/1], Step [28/1000], Loss1: 5.6418,  Loss3: 0.0102\n",
            "Epoch[1/1], Step [29/1000], Loss1: 2.9227,  Loss3: 0.1219\n",
            "Epoch[1/1], Step [30/1000], Loss1: 3.2899,  Loss3: 0.0452\n",
            "Epoch[1/1], Step [31/1000], Loss1: 0.6367,  Loss3: 0.5825\n",
            "Epoch[1/1], Step [32/1000], Loss1: 6.1655,  Loss3: 0.0028\n",
            "Epoch[1/1], Step [33/1000], Loss1: 0.0436,  Loss3: 0.9925\n",
            "Epoch[1/1], Step [34/1000], Loss1: 1.1912,  Loss3: 0.3300\n",
            "Epoch[1/1], Step [35/1000], Loss1: 1.8500,  Loss3: 0.1650\n",
            "Epoch[1/1], Step [36/1000], Loss1: 0.5937,  Loss3: 0.6772\n",
            "Epoch[1/1], Step [37/1000], Loss1: 0.9095,  Loss3: 0.4467\n",
            "Epoch[1/1], Step [38/1000], Loss1: 6.0405,  Loss3: 0.0051\n",
            "Epoch[1/1], Step [39/1000], Loss1: 3.4371,  Loss3: 0.2394\n",
            "Epoch[1/1], Step [40/1000], Loss1: 0.6821,  Loss3: 0.5694\n",
            "Epoch[1/1], Step [41/1000], Loss1: 0.6973,  Loss3: 0.5022\n",
            "Epoch[1/1], Step [42/1000], Loss1: 2.6438,  Loss3: 0.1132\n",
            "Epoch[1/1], Step [43/1000], Loss1: 2.9529,  Loss3: 0.0727\n",
            "Epoch[1/1], Step [44/1000], Loss1: 2.2745,  Loss3: 0.1101\n",
            "Epoch[1/1], Step [45/1000], Loss1: 1.9419,  Loss3: 0.1447\n",
            "Epoch[1/1], Step [46/1000], Loss1: 0.0004,  Loss3: 0.9999\n",
            "Epoch[1/1], Step [47/1000], Loss1: 0.0000,  Loss3: 1.0000\n",
            "Epoch[1/1], Step [48/1000], Loss1: 0.8685,  Loss3: 0.4981\n",
            "Epoch[1/1], Step [49/1000], Loss1: 0.1203,  Loss3: 0.9591\n",
            "Epoch[1/1], Step [50/1000], Loss1: 2.0867,  Loss3: 0.1367\n",
            "Epoch[1/1], Step [51/1000], Loss1: 0.6881,  Loss3: 0.5902\n",
            "Epoch[1/1], Step [52/1000], Loss1: 0.0870,  Loss3: 0.9729\n",
            "Epoch[1/1], Step [53/1000], Loss1: 0.6935,  Loss3: 0.5001\n",
            "Epoch[1/1], Step [54/1000], Loss1: 0.9232,  Loss3: 0.4803\n",
            "Epoch[1/1], Step [55/1000], Loss1: 1.0714,  Loss3: 0.6561\n",
            "Epoch[1/1], Step [56/1000], Loss1: 0.2585,  Loss3: 0.9060\n",
            "Epoch[1/1], Step [57/1000], Loss1: 0.0189,  Loss3: 0.9947\n",
            "Epoch[1/1], Step [58/1000], Loss1: 0.8230,  Loss3: 0.5227\n",
            "Epoch[1/1], Step [59/1000], Loss1: 0.0976,  Loss3: 0.9666\n",
            "Epoch[1/1], Step [60/1000], Loss1: 1.2676,  Loss3: 0.3747\n",
            "Epoch[1/1], Step [61/1000], Loss1: 1.1356,  Loss3: 0.3384\n",
            "Epoch[1/1], Step [62/1000], Loss1: 1.3401,  Loss3: 0.2754\n",
            "Epoch[1/1], Step [63/1000], Loss1: 1.8674,  Loss3: 0.1700\n",
            "Epoch[1/1], Step [64/1000], Loss1: 1.1033,  Loss3: 0.3632\n",
            "Epoch[1/1], Step [65/1000], Loss1: 1.6005,  Loss3: 0.3043\n",
            "Epoch[1/1], Step [66/1000], Loss1: 0.9995,  Loss3: 0.4707\n",
            "Epoch[1/1], Step [67/1000], Loss1: 1.2900,  Loss3: 0.3024\n",
            "Epoch[1/1], Step [68/1000], Loss1: 0.0692,  Loss3: 0.9772\n",
            "Epoch[1/1], Step [69/1000], Loss1: 1.1094,  Loss3: 0.3485\n",
            "Epoch[1/1], Step [70/1000], Loss1: 0.1485,  Loss3: 0.9354\n",
            "Epoch[1/1], Step [71/1000], Loss1: 0.0012,  Loss3: 0.9998\n",
            "Epoch[1/1], Step [72/1000], Loss1: 0.0155,  Loss3: 0.9964\n",
            "Epoch[1/1], Step [73/1000], Loss1: 0.0015,  Loss3: 0.9997\n",
            "Epoch[1/1], Step [74/1000], Loss1: 0.0000,  Loss3: 1.0000\n",
            "Epoch[1/1], Step [75/1000], Loss1: 0.0011,  Loss3: 0.9998\n",
            "Epoch[1/1], Step [76/1000], Loss1: 0.7240,  Loss3: 0.4968\n",
            "Epoch[1/1], Step [77/1000], Loss1: 0.0002,  Loss3: 1.0000\n",
            "Epoch[1/1], Step [78/1000], Loss1: 0.0969,  Loss3: 0.9614\n",
            "Epoch[1/1], Step [79/1000], Loss1: 0.0186,  Loss3: 0.9954\n",
            "Epoch[1/1], Step [80/1000], Loss1: 0.0005,  Loss3: 0.9999\n",
            "Epoch[1/1], Step [81/1000], Loss1: 0.0096,  Loss3: 0.9978\n",
            "Epoch[1/1], Step [82/1000], Loss1: 0.2104,  Loss3: 0.9167\n",
            "Epoch[1/1], Step [83/1000], Loss1: 1.4835,  Loss3: 0.3381\n",
            "Epoch[1/1], Step [84/1000], Loss1: 0.2942,  Loss3: 0.8470\n",
            "Epoch[1/1], Step [85/1000], Loss1: 0.0032,  Loss3: 0.9993\n",
            "Epoch[1/1], Step [86/1000], Loss1: 0.0337,  Loss3: 0.9909\n",
            "Epoch[1/1], Step [87/1000], Loss1: 0.0058,  Loss3: 0.9988\n",
            "Epoch[1/1], Step [88/1000], Loss1: 1.2005,  Loss3: 0.3459\n",
            "Epoch[1/1], Step [89/1000], Loss1: 1.0769,  Loss3: 0.3575\n",
            "Epoch[1/1], Step [90/1000], Loss1: 0.8249,  Loss3: 0.6252\n",
            "Epoch[1/1], Step [91/1000], Loss1: 0.0533,  Loss3: 0.9850\n",
            "Epoch[1/1], Step [92/1000], Loss1: 0.7214,  Loss3: 0.5181\n",
            "Epoch[1/1], Step [93/1000], Loss1: 0.8735,  Loss3: 0.4670\n",
            "Epoch[1/1], Step [94/1000], Loss1: 0.0000,  Loss3: 1.0000\n",
            "Epoch[1/1], Step [95/1000], Loss1: 0.0343,  Loss3: 0.9891\n",
            "Epoch[1/1], Step [96/1000], Loss1: 1.0886,  Loss3: 0.3550\n",
            "Epoch[1/1], Step [97/1000], Loss1: 0.7470,  Loss3: 0.4924\n",
            "Epoch[1/1], Step [98/1000], Loss1: 1.3898,  Loss3: 0.2579\n",
            "Epoch[1/1], Step [99/1000], Loss1: 0.0654,  Loss3: 0.9782\n",
            "Epoch[1/1], Step [100/1000], Loss1: 0.8613,  Loss3: 0.4554\n",
            "Epoch[1/1], Step [101/1000], Loss1: 0.5863,  Loss3: 0.6047\n",
            "Epoch[1/1], Step [102/1000], Loss1: 0.5303,  Loss3: 0.6570\n",
            "Epoch[1/1], Step [103/1000], Loss1: 0.0063,  Loss3: 0.9988\n",
            "Epoch[1/1], Step [104/1000], Loss1: 0.0208,  Loss3: 0.9939\n",
            "Epoch[1/1], Step [105/1000], Loss1: 0.7006,  Loss3: 0.4991\n",
            "Epoch[1/1], Step [106/1000], Loss1: 0.8893,  Loss3: 0.4608\n",
            "Epoch[1/1], Step [107/1000], Loss1: 0.0387,  Loss3: 0.9897\n",
            "Epoch[1/1], Step [108/1000], Loss1: 0.6737,  Loss3: 0.5207\n",
            "Epoch[1/1], Step [109/1000], Loss1: 0.8441,  Loss3: 0.4997\n",
            "Epoch[1/1], Step [110/1000], Loss1: 0.9971,  Loss3: 0.4535\n",
            "Epoch[1/1], Step [111/1000], Loss1: 1.3672,  Loss3: 0.2766\n",
            "Epoch[1/1], Step [112/1000], Loss1: 0.0037,  Loss3: 0.9993\n",
            "Epoch[1/1], Step [113/1000], Loss1: 1.2905,  Loss3: 0.3025\n",
            "Epoch[1/1], Step [114/1000], Loss1: 0.0129,  Loss3: 0.9972\n",
            "Epoch[1/1], Step [115/1000], Loss1: 0.0069,  Loss3: 0.9984\n",
            "Epoch[1/1], Step [116/1000], Loss1: 0.4593,  Loss3: 0.7198\n",
            "Epoch[1/1], Step [117/1000], Loss1: 0.0000,  Loss3: 1.0000\n",
            "Epoch[1/1], Step [118/1000], Loss1: 0.2064,  Loss3: 0.9185\n",
            "Epoch[1/1], Step [119/1000], Loss1: 0.9899,  Loss3: 0.4200\n",
            "Epoch[1/1], Step [120/1000], Loss1: 0.1265,  Loss3: 0.9562\n",
            "Epoch[1/1], Step [121/1000], Loss1: 0.0000,  Loss3: 1.0000\n",
            "Epoch[1/1], Step [122/1000], Loss1: 0.0005,  Loss3: 0.9999\n",
            "Epoch[1/1], Step [123/1000], Loss1: 0.0218,  Loss3: 0.9945\n",
            "Epoch[1/1], Step [124/1000], Loss1: 0.4284,  Loss3: 0.7404\n",
            "Epoch[1/1], Step [125/1000], Loss1: 0.0013,  Loss3: 0.9997\n",
            "Epoch[1/1], Step [126/1000], Loss1: 1.0047,  Loss3: 0.3954\n",
            "Epoch[1/1], Step [127/1000], Loss1: 0.0000,  Loss3: 1.0000\n",
            "Epoch[1/1], Step [128/1000], Loss1: 0.0026,  Loss3: 0.9994\n",
            "Epoch[1/1], Step [129/1000], Loss1: 1.1707,  Loss3: 0.4641\n",
            "Epoch[1/1], Step [130/1000], Loss1: 0.2512,  Loss3: 0.8714\n",
            "Epoch[1/1], Step [131/1000], Loss1: 0.0001,  Loss3: 1.0000\n",
            "Epoch[1/1], Step [132/1000], Loss1: 0.6871,  Loss3: 0.5061\n",
            "Epoch[1/1], Step [133/1000], Loss1: 0.0000,  Loss3: 1.0000\n",
            "Epoch[1/1], Step [134/1000], Loss1: 1.3877,  Loss3: 0.3336\n",
            "Epoch[1/1], Step [135/1000], Loss1: 0.5620,  Loss3: 0.6253\n",
            "Epoch[1/1], Step [136/1000], Loss1: 0.0000,  Loss3: 1.0000\n",
            "Epoch[1/1], Step [137/1000], Loss1: 0.1750,  Loss3: 0.9264\n",
            "Epoch[1/1], Step [138/1000], Loss1: 0.0000,  Loss3: 1.0000\n",
            "Epoch[1/1], Step [139/1000], Loss1: 0.7396,  Loss3: 0.5623\n",
            "Epoch[1/1], Step [140/1000], Loss1: 0.0000,  Loss3: 1.0000\n",
            "Epoch[1/1], Step [141/1000], Loss1: 0.0001,  Loss3: 1.0000\n",
            "Epoch[1/1], Step [142/1000], Loss1: 0.0000,  Loss3: 1.0000\n",
            "Epoch[1/1], Step [143/1000], Loss1: 0.1433,  Loss3: 0.9372\n",
            "Epoch[1/1], Step [144/1000], Loss1: 0.5028,  Loss3: 0.8029\n",
            "Epoch[1/1], Step [145/1000], Loss1: 0.0057,  Loss3: 0.9987\n",
            "Epoch[1/1], Step [146/1000], Loss1: 0.0638,  Loss3: 0.9787\n",
            "Epoch[1/1], Step [147/1000], Loss1: 0.0007,  Loss3: 0.9999\n",
            "Epoch[1/1], Step [148/1000], Loss1: 0.1298,  Loss3: 0.9544\n",
            "Epoch[1/1], Step [149/1000], Loss1: 0.0374,  Loss3: 0.9896\n",
            "Epoch[1/1], Step [150/1000], Loss1: 0.0000,  Loss3: 1.0000\n",
            "Epoch[1/1], Step [151/1000], Loss1: 0.0024,  Loss3: 0.9995\n",
            "Epoch[1/1], Step [152/1000], Loss1: 0.1646,  Loss3: 0.9254\n",
            "Epoch[1/1], Step [153/1000], Loss1: 0.0380,  Loss3: 0.9876\n",
            "Epoch[1/1], Step [154/1000], Loss1: 0.0000,  Loss3: 1.0000\n",
            "Epoch[1/1], Step [155/1000], Loss1: 0.0666,  Loss3: 0.9764\n",
            "Epoch[1/1], Step [156/1000], Loss1: 0.2129,  Loss3: 0.9598\n",
            "Epoch[1/1], Step [157/1000], Loss1: 0.1029,  Loss3: 0.9636\n",
            "Epoch[1/1], Step [158/1000], Loss1: 0.6758,  Loss3: 0.5176\n",
            "Epoch[1/1], Step [159/1000], Loss1: 0.0022,  Loss3: 0.9995\n",
            "Epoch[1/1], Step [160/1000], Loss1: 0.8883,  Loss3: 0.4463\n",
            "Epoch[1/1], Step [161/1000], Loss1: 0.7615,  Loss3: 0.5883\n",
            "Epoch[1/1], Step [162/1000], Loss1: 0.0000,  Loss3: 1.0000\n",
            "Epoch[1/1], Step [163/1000], Loss1: 0.0004,  Loss3: 0.9999\n",
            "Epoch[1/1], Step [164/1000], Loss1: 0.4571,  Loss3: 0.7837\n",
            "Epoch[1/1], Step [165/1000], Loss1: 0.6876,  Loss3: 0.5067\n",
            "Epoch[1/1], Step [166/1000], Loss1: 0.0000,  Loss3: 1.0000\n",
            "Epoch[1/1], Step [167/1000], Loss1: 0.0007,  Loss3: 0.9999\n",
            "Epoch[1/1], Step [168/1000], Loss1: 0.1990,  Loss3: 0.9047\n",
            "Epoch[1/1], Step [169/1000], Loss1: 0.0000,  Loss3: 1.0000\n",
            "Epoch[1/1], Step [170/1000], Loss1: 0.5473,  Loss3: 0.6386\n",
            "Epoch[1/1], Step [171/1000], Loss1: 0.5501,  Loss3: 0.6364\n",
            "Epoch[1/1], Step [172/1000], Loss1: 0.8689,  Loss3: 0.4520\n",
            "Epoch[1/1], Step [173/1000], Loss1: 0.5498,  Loss3: 0.6374\n",
            "Epoch[1/1], Step [174/1000], Loss1: 0.9810,  Loss3: 0.4171\n",
            "Epoch[1/1], Step [175/1000], Loss1: 1.0307,  Loss3: 0.4917\n",
            "Epoch[1/1], Step [176/1000], Loss1: 0.0019,  Loss3: 0.9996\n",
            "Epoch[1/1], Step [177/1000], Loss1: 0.1361,  Loss3: 0.9410\n",
            "Epoch[1/1], Step [178/1000], Loss1: 0.5238,  Loss3: 0.6601\n",
            "Epoch[1/1], Step [179/1000], Loss1: 0.4927,  Loss3: 0.6867\n",
            "Epoch[1/1], Step [180/1000], Loss1: 0.0000,  Loss3: 1.0000\n",
            "Epoch[1/1], Step [181/1000], Loss1: 0.5634,  Loss3: 0.6528\n",
            "Epoch[1/1], Step [182/1000], Loss1: 1.3823,  Loss3: 0.3928\n",
            "Epoch[1/1], Step [183/1000], Loss1: 0.0000,  Loss3: 1.0000\n",
            "Epoch[1/1], Step [184/1000], Loss1: 0.9059,  Loss3: 0.4696\n",
            "Epoch[1/1], Step [185/1000], Loss1: 0.0137,  Loss3: 0.9965\n",
            "Epoch[1/1], Step [186/1000], Loss1: 0.0052,  Loss3: 0.9989\n",
            "Epoch[1/1], Step [187/1000], Loss1: 0.4526,  Loss3: 0.7929\n",
            "Epoch[1/1], Step [188/1000], Loss1: 0.6522,  Loss3: 0.5860\n",
            "Epoch[1/1], Step [189/1000], Loss1: 1.2511,  Loss3: 0.3454\n",
            "Epoch[1/1], Step [190/1000], Loss1: 0.0375,  Loss3: 0.9878\n",
            "Epoch[1/1], Step [191/1000], Loss1: 0.5942,  Loss3: 0.5958\n",
            "Epoch[1/1], Step [192/1000], Loss1: 0.0084,  Loss3: 0.9980\n",
            "Epoch[1/1], Step [193/1000], Loss1: 0.0038,  Loss3: 0.9992\n",
            "Epoch[1/1], Step [194/1000], Loss1: 0.0103,  Loss3: 0.9973\n",
            "Epoch[1/1], Step [195/1000], Loss1: 1.4101,  Loss3: 0.3291\n",
            "Epoch[1/1], Step [196/1000], Loss1: 0.0010,  Loss3: 0.9998\n",
            "Epoch[1/1], Step [197/1000], Loss1: 0.2778,  Loss3: 0.8561\n",
            "Epoch[1/1], Step [198/1000], Loss1: 0.0156,  Loss3: 0.9956\n",
            "Epoch[1/1], Step [199/1000], Loss1: 0.0053,  Loss3: 0.9988\n",
            "Epoch[1/1], Step [200/1000], Loss1: 0.0041,  Loss3: 0.9991\n",
            "Epoch[1/1], Step [201/1000], Loss1: 0.6910,  Loss3: 0.5148\n",
            "Epoch[1/1], Step [202/1000], Loss1: 0.9430,  Loss3: 0.4722\n",
            "Epoch[1/1], Step [203/1000], Loss1: 0.0000,  Loss3: 1.0000\n",
            "Epoch[1/1], Step [204/1000], Loss1: 0.0000,  Loss3: 1.0000\n",
            "Epoch[1/1], Step [205/1000], Loss1: 0.6925,  Loss3: 0.5136\n",
            "Epoch[1/1], Step [206/1000], Loss1: 0.0005,  Loss3: 0.9999\n",
            "Epoch[1/1], Step [207/1000], Loss1: 0.5434,  Loss3: 0.6493\n",
            "Epoch[1/1], Step [208/1000], Loss1: 0.0000,  Loss3: 1.0000\n",
            "Epoch[1/1], Step [209/1000], Loss1: 0.0000,  Loss3: 1.0000\n",
            "Epoch[1/1], Step [210/1000], Loss1: 0.3428,  Loss3: 0.8085\n",
            "Epoch[1/1], Step [211/1000], Loss1: 0.9602,  Loss3: 0.4280\n",
            "Epoch[1/1], Step [212/1000], Loss1: 0.0120,  Loss3: 0.9969\n",
            "Epoch[1/1], Step [213/1000], Loss1: 0.0000,  Loss3: 1.0000\n",
            "Epoch[1/1], Step [214/1000], Loss1: 0.1637,  Loss3: 0.9374\n",
            "Epoch[1/1], Step [215/1000], Loss1: 0.0005,  Loss3: 0.9999\n",
            "Epoch[1/1], Step [216/1000], Loss1: 0.8491,  Loss3: 0.5150\n",
            "Epoch[1/1], Step [217/1000], Loss1: 0.2839,  Loss3: 0.8897\n",
            "Epoch[1/1], Step [218/1000], Loss1: 0.0000,  Loss3: 1.0000\n",
            "Epoch[1/1], Step [219/1000], Loss1: 0.0066,  Loss3: 0.9984\n",
            "Epoch[1/1], Step [220/1000], Loss1: 0.0275,  Loss3: 0.9916\n",
            "Epoch[1/1], Step [221/1000], Loss1: 0.0002,  Loss3: 1.0000\n",
            "Epoch[1/1], Step [222/1000], Loss1: 0.0000,  Loss3: 1.0000\n",
            "Epoch[1/1], Step [223/1000], Loss1: 0.6262,  Loss3: 0.5655\n",
            "Epoch[1/1], Step [224/1000], Loss1: 0.6783,  Loss3: 0.7091\n",
            "Epoch[1/1], Step [225/1000], Loss1: 1.1990,  Loss3: 0.3304\n",
            "Epoch[1/1], Step [226/1000], Loss1: 0.2369,  Loss3: 0.9053\n",
            "Epoch[1/1], Step [227/1000], Loss1: 0.0103,  Loss3: 0.9973\n",
            "Epoch[1/1], Step [228/1000], Loss1: 0.0000,  Loss3: 1.0000\n",
            "Epoch[1/1], Step [229/1000], Loss1: 0.0002,  Loss3: 1.0000\n",
            "Epoch[1/1], Step [230/1000], Loss1: 0.0256,  Loss3: 0.9922\n",
            "Epoch[1/1], Step [231/1000], Loss1: 0.0028,  Loss3: 0.9994\n",
            "Epoch[1/1], Step [232/1000], Loss1: 0.0266,  Loss3: 0.9930\n",
            "Epoch[1/1], Step [233/1000], Loss1: 0.5235,  Loss3: 0.6623\n",
            "Epoch[1/1], Step [234/1000], Loss1: 0.3480,  Loss3: 0.8031\n",
            "Epoch[1/1], Step [235/1000], Loss1: 0.0026,  Loss3: 0.9994\n",
            "Epoch[1/1], Step [236/1000], Loss1: 0.6561,  Loss3: 0.6480\n",
            "Epoch[1/1], Step [237/1000], Loss1: 0.0063,  Loss3: 0.9985\n",
            "Epoch[1/1], Step [238/1000], Loss1: 1.1988,  Loss3: 0.3533\n",
            "Epoch[1/1], Step [239/1000], Loss1: 0.5571,  Loss3: 0.6298\n",
            "Epoch[1/1], Step [240/1000], Loss1: 0.0000,  Loss3: 1.0000\n",
            "Epoch[1/1], Step [241/1000], Loss1: 0.7018,  Loss3: 0.5078\n",
            "Epoch[1/1], Step [242/1000], Loss1: 0.5059,  Loss3: 0.6752\n",
            "Epoch[1/1], Step [243/1000], Loss1: 0.0003,  Loss3: 0.9999\n",
            "Epoch[1/1], Step [244/1000], Loss1: 0.0000,  Loss3: 1.0000\n",
            "Epoch[1/1], Step [245/1000], Loss1: 0.0778,  Loss3: 0.9761\n",
            "Epoch[1/1], Step [246/1000], Loss1: 0.0073,  Loss3: 0.9984\n",
            "Epoch[1/1], Step [247/1000], Loss1: 0.0035,  Loss3: 0.9992\n",
            "Epoch[1/1], Step [248/1000], Loss1: 0.0002,  Loss3: 1.0000\n",
            "Epoch[1/1], Step [249/1000], Loss1: 0.0000,  Loss3: 1.0000\n",
            "Epoch[1/1], Step [250/1000], Loss1: 0.0483,  Loss3: 0.9835\n",
            "Epoch[1/1], Step [251/1000], Loss1: 0.6798,  Loss3: 0.5146\n",
            "Epoch[1/1], Step [252/1000], Loss1: 0.2071,  Loss3: 0.8997\n",
            "Epoch[1/1], Step [253/1000], Loss1: 0.0000,  Loss3: 1.0000\n",
            "Epoch[1/1], Step [254/1000], Loss1: 0.0001,  Loss3: 1.0000\n",
            "Epoch[1/1], Step [255/1000], Loss1: 0.0016,  Loss3: 0.9997\n",
            "Epoch[1/1], Step [256/1000], Loss1: 0.2719,  Loss3: 0.8578\n",
            "Epoch[1/1], Step [257/1000], Loss1: 0.2530,  Loss3: 0.8818\n",
            "Epoch[1/1], Step [258/1000], Loss1: 0.0000,  Loss3: 1.0000\n",
            "Epoch[1/1], Step [259/1000], Loss1: 0.0001,  Loss3: 1.0000\n",
            "Epoch[1/1], Step [260/1000], Loss1: 0.4390,  Loss3: 0.7324\n",
            "Epoch[1/1], Step [261/1000], Loss1: 0.0000,  Loss3: 1.0000\n",
            "Epoch[1/1], Step [262/1000], Loss1: 1.2126,  Loss3: 0.4194\n",
            "Epoch[1/1], Step [263/1000], Loss1: 0.0045,  Loss3: 0.9990\n",
            "Epoch[1/1], Step [264/1000], Loss1: 0.0000,  Loss3: 1.0000\n",
            "Epoch[1/1], Step [265/1000], Loss1: 0.0000,  Loss3: 1.0000\n",
            "Epoch[1/1], Step [266/1000], Loss1: 0.0000,  Loss3: 1.0000\n",
            "Epoch[1/1], Step [267/1000], Loss1: 0.0064,  Loss3: 0.9986\n",
            "Epoch[1/1], Step [268/1000], Loss1: 0.0000,  Loss3: 1.0000\n",
            "Epoch[1/1], Step [269/1000], Loss1: 0.0038,  Loss3: 0.9991\n",
            "Epoch[1/1], Step [270/1000], Loss1: 0.4622,  Loss3: 0.7683\n",
            "Epoch[1/1], Step [271/1000], Loss1: 0.7124,  Loss3: 0.5854\n",
            "Epoch[1/1], Step [272/1000], Loss1: 0.5810,  Loss3: 0.6951\n",
            "Epoch[1/1], Step [273/1000], Loss1: 0.0559,  Loss3: 0.9844\n",
            "Epoch[1/1], Step [274/1000], Loss1: 0.0002,  Loss3: 1.0000\n",
            "Epoch[1/1], Step [275/1000], Loss1: 0.8634,  Loss3: 0.4851\n",
            "Epoch[1/1], Step [276/1000], Loss1: 0.1136,  Loss3: 0.9548\n",
            "Epoch[1/1], Step [277/1000], Loss1: 0.0000,  Loss3: 1.0000\n",
            "Epoch[1/1], Step [278/1000], Loss1: 0.0004,  Loss3: 0.9999\n",
            "Epoch[1/1], Step [279/1000], Loss1: 1.1408,  Loss3: 0.4222\n",
            "Epoch[1/1], Step [280/1000], Loss1: 0.0002,  Loss3: 1.0000\n",
            "Epoch[1/1], Step [281/1000], Loss1: 0.5821,  Loss3: 0.6116\n",
            "Epoch[1/1], Step [282/1000], Loss1: 0.0002,  Loss3: 1.0000\n",
            "Epoch[1/1], Step [283/1000], Loss1: 1.0535,  Loss3: 0.4581\n",
            "Epoch[1/1], Step [284/1000], Loss1: 0.6741,  Loss3: 0.5696\n",
            "Epoch[1/1], Step [285/1000], Loss1: 0.0000,  Loss3: 1.0000\n",
            "Epoch[1/1], Step [286/1000], Loss1: 1.1053,  Loss3: 0.4033\n",
            "Epoch[1/1], Step [287/1000], Loss1: 0.6501,  Loss3: 0.5630\n",
            "Epoch[1/1], Step [288/1000], Loss1: 0.2797,  Loss3: 0.8824\n",
            "Epoch[1/1], Step [289/1000], Loss1: 0.0002,  Loss3: 1.0000\n",
            "Epoch[1/1], Step [290/1000], Loss1: 0.3571,  Loss3: 0.7963\n",
            "Epoch[1/1], Step [291/1000], Loss1: 1.0886,  Loss3: 0.4213\n",
            "Epoch[1/1], Step [292/1000], Loss1: 0.8817,  Loss3: 0.5114\n",
            "Epoch[1/1], Step [293/1000], Loss1: 0.0001,  Loss3: 1.0000\n",
            "Epoch[1/1], Step [294/1000], Loss1: 0.0000,  Loss3: 1.0000\n",
            "Epoch[1/1], Step [295/1000], Loss1: 0.4051,  Loss3: 0.7591\n",
            "Epoch[1/1], Step [296/1000], Loss1: 0.2837,  Loss3: 0.8558\n",
            "Epoch[1/1], Step [297/1000], Loss1: 2.6129,  Loss3: 0.1185\n",
            "Epoch[1/1], Step [298/1000], Loss1: 0.0000,  Loss3: 1.0000\n",
            "Epoch[1/1], Step [299/1000], Loss1: 0.0000,  Loss3: 1.0000\n",
            "Epoch[1/1], Step [300/1000], Loss1: 1.0258,  Loss3: 0.3920\n",
            "Epoch[1/1], Step [301/1000], Loss1: 0.4269,  Loss3: 0.7416\n",
            "Epoch[1/1], Step [302/1000], Loss1: 0.6914,  Loss3: 0.5069\n",
            "Epoch[1/1], Step [303/1000], Loss1: 0.0001,  Loss3: 1.0000\n",
            "Epoch[1/1], Step [304/1000], Loss1: 0.0079,  Loss3: 0.9980\n",
            "Epoch[1/1], Step [305/1000], Loss1: 0.0000,  Loss3: 1.0000\n",
            "Epoch[1/1], Step [306/1000], Loss1: 0.3752,  Loss3: 0.7911\n",
            "Epoch[1/1], Step [307/1000], Loss1: 0.0000,  Loss3: 1.0000\n",
            "Epoch[1/1], Step [308/1000], Loss1: 0.0246,  Loss3: 0.9927\n",
            "Epoch[1/1], Step [309/1000], Loss1: 0.1330,  Loss3: 0.9428\n",
            "Epoch[1/1], Step [310/1000], Loss1: 0.0000,  Loss3: 1.0000\n",
            "Epoch[1/1], Step [311/1000], Loss1: 0.7019,  Loss3: 0.6151\n",
            "Epoch[1/1], Step [312/1000], Loss1: 0.0000,  Loss3: 1.0000\n",
            "Epoch[1/1], Step [313/1000], Loss1: 0.0001,  Loss3: 1.0000\n",
            "Epoch[1/1], Step [314/1000], Loss1: 0.0000,  Loss3: 1.0000\n",
            "Epoch[1/1], Step [315/1000], Loss1: 0.0168,  Loss3: 0.9956\n",
            "Epoch[1/1], Step [316/1000], Loss1: 0.9786,  Loss3: 0.4112\n",
            "Epoch[1/1], Step [317/1000], Loss1: 0.0436,  Loss3: 0.9853\n",
            "Epoch[1/1], Step [318/1000], Loss1: 0.0017,  Loss3: 0.9997\n",
            "Epoch[1/1], Step [319/1000], Loss1: 0.4744,  Loss3: 0.7023\n",
            "Epoch[1/1], Step [320/1000], Loss1: 0.0007,  Loss3: 0.9999\n",
            "Epoch[1/1], Step [321/1000], Loss1: 0.0000,  Loss3: 1.0000\n",
            "Epoch[1/1], Step [322/1000], Loss1: 0.2490,  Loss3: 0.8730\n",
            "Epoch[1/1], Step [323/1000], Loss1: 0.6738,  Loss3: 0.5192\n",
            "Epoch[1/1], Step [324/1000], Loss1: 0.0000,  Loss3: 1.0000\n",
            "Epoch[1/1], Step [325/1000], Loss1: 0.1602,  Loss3: 0.9276\n",
            "Epoch[1/1], Step [326/1000], Loss1: 0.3584,  Loss3: 0.7971\n",
            "Epoch[1/1], Step [327/1000], Loss1: 0.0025,  Loss3: 0.9995\n",
            "Epoch[1/1], Step [328/1000], Loss1: 0.6850,  Loss3: 0.5082\n",
            "Epoch[1/1], Step [329/1000], Loss1: 0.0000,  Loss3: 1.0000\n",
            "Epoch[1/1], Step [330/1000], Loss1: 0.0000,  Loss3: 1.0000\n",
            "Epoch[1/1], Step [331/1000], Loss1: 0.0000,  Loss3: 1.0000\n",
            "Epoch[1/1], Step [332/1000], Loss1: 0.5671,  Loss3: 0.6208\n",
            "Epoch[1/1], Step [333/1000], Loss1: 0.0039,  Loss3: 0.9991\n",
            "Epoch[1/1], Step [334/1000], Loss1: 0.0000,  Loss3: 1.0000\n",
            "Epoch[1/1], Step [335/1000], Loss1: 0.0008,  Loss3: 0.9998\n",
            "Epoch[1/1], Step [336/1000], Loss1: 0.0000,  Loss3: 1.0000\n",
            "Epoch[1/1], Step [337/1000], Loss1: 0.0000,  Loss3: 1.0000\n",
            "Epoch[1/1], Step [338/1000], Loss1: 0.4614,  Loss3: 0.7132\n",
            "Epoch[1/1], Step [339/1000], Loss1: 0.0000,  Loss3: 1.0000\n",
            "Epoch[1/1], Step [340/1000], Loss1: 0.6073,  Loss3: 0.5833\n",
            "Epoch[1/1], Step [341/1000], Loss1: 0.1765,  Loss3: 0.9182\n",
            "Epoch[1/1], Step [342/1000], Loss1: 0.1437,  Loss3: 0.9371\n",
            "Epoch[1/1], Step [343/1000], Loss1: 0.0001,  Loss3: 1.0000\n",
            "Epoch[1/1], Step [344/1000], Loss1: 0.4218,  Loss3: 0.7552\n",
            "Epoch[1/1], Step [345/1000], Loss1: 0.3335,  Loss3: 0.8138\n",
            "Epoch[1/1], Step [346/1000], Loss1: 0.0001,  Loss3: 1.0000\n",
            "Epoch[1/1], Step [347/1000], Loss1: 0.0000,  Loss3: 1.0000\n",
            "Epoch[1/1], Step [348/1000], Loss1: 0.0000,  Loss3: 1.0000\n",
            "Epoch[1/1], Step [349/1000], Loss1: 0.0000,  Loss3: 1.0000\n",
            "Epoch[1/1], Step [350/1000], Loss1: 0.0000,  Loss3: 1.0000\n",
            "Epoch[1/1], Step [351/1000], Loss1: 0.0000,  Loss3: 1.0000\n",
            "Epoch[1/1], Step [352/1000], Loss1: 1.0185,  Loss3: 0.4600\n",
            "Epoch[1/1], Step [353/1000], Loss1: 0.0000,  Loss3: 1.0000\n",
            "Epoch[1/1], Step [354/1000], Loss1: 0.0000,  Loss3: 1.0000\n",
            "Epoch[1/1], Step [355/1000], Loss1: 0.0000,  Loss3: 1.0000\n",
            "Epoch[1/1], Step [356/1000], Loss1: 0.0014,  Loss3: 0.9997\n",
            "Epoch[1/1], Step [357/1000], Loss1: 0.0000,  Loss3: 1.0000\n",
            "Epoch[1/1], Step [358/1000], Loss1: 0.0000,  Loss3: 1.0000\n",
            "Epoch[1/1], Step [359/1000], Loss1: 0.0000,  Loss3: 1.0000\n",
            "Epoch[1/1], Step [360/1000], Loss1: 0.0000,  Loss3: 1.0000\n",
            "Epoch[1/1], Step [361/1000], Loss1: 0.0001,  Loss3: 1.0000\n",
            "Epoch[1/1], Step [362/1000], Loss1: 0.1027,  Loss3: 0.9585\n",
            "Epoch[1/1], Step [363/1000], Loss1: 0.0000,  Loss3: 1.0000\n",
            "Epoch[1/1], Step [364/1000], Loss1: 0.1951,  Loss3: 0.9071\n",
            "Epoch[1/1], Step [365/1000], Loss1: 0.0000,  Loss3: 1.0000\n",
            "Epoch[1/1], Step [366/1000], Loss1: 0.6266,  Loss3: 0.5650\n",
            "Epoch[1/1], Step [367/1000], Loss1: 0.2988,  Loss3: 0.8389\n",
            "Epoch[1/1], Step [368/1000], Loss1: 1.3698,  Loss3: 0.3398\n",
            "Epoch[1/1], Step [369/1000], Loss1: 0.0070,  Loss3: 0.9984\n",
            "Epoch[1/1], Step [370/1000], Loss1: 0.0000,  Loss3: 1.0000\n",
            "Epoch[1/1], Step [371/1000], Loss1: 0.0007,  Loss3: 0.9999\n",
            "Epoch[1/1], Step [372/1000], Loss1: 0.6076,  Loss3: 0.6787\n",
            "Epoch[1/1], Step [373/1000], Loss1: 0.0042,  Loss3: 0.9991\n",
            "Epoch[1/1], Step [374/1000], Loss1: 0.0000,  Loss3: 1.0000\n",
            "Epoch[1/1], Step [375/1000], Loss1: 0.0131,  Loss3: 0.9964\n",
            "Epoch[1/1], Step [376/1000], Loss1: 0.0000,  Loss3: 1.0000\n",
            "Epoch[1/1], Step [377/1000], Loss1: 0.0001,  Loss3: 1.0000\n",
            "Epoch[1/1], Step [378/1000], Loss1: 0.0000,  Loss3: 1.0000\n",
            "Epoch[1/1], Step [379/1000], Loss1: 0.0000,  Loss3: 1.0000\n",
            "Epoch[1/1], Step [380/1000], Loss1: 0.0000,  Loss3: 1.0000\n",
            "Epoch[1/1], Step [381/1000], Loss1: 0.0000,  Loss3: 1.0000\n",
            "Epoch[1/1], Step [382/1000], Loss1: 0.0000,  Loss3: 1.0000\n",
            "Epoch[1/1], Step [383/1000], Loss1: 0.0000,  Loss3: 1.0000\n",
            "Epoch[1/1], Step [384/1000], Loss1: 0.0000,  Loss3: 1.0000\n",
            "Epoch[1/1], Step [385/1000], Loss1: 0.0000,  Loss3: 1.0000\n",
            "Epoch[1/1], Step [386/1000], Loss1: 0.0000,  Loss3: 1.0000\n",
            "Epoch[1/1], Step [387/1000], Loss1: 1.3877,  Loss3: 0.3199\n",
            "Epoch[1/1], Step [388/1000], Loss1: 0.3010,  Loss3: 0.8622\n",
            "Epoch[1/1], Step [389/1000], Loss1: 0.0000,  Loss3: 1.0000\n",
            "Epoch[1/1], Step [390/1000], Loss1: 0.0011,  Loss3: 0.9998\n",
            "Epoch[1/1], Step [391/1000], Loss1: 0.0000,  Loss3: 1.0000\n",
            "Epoch[1/1], Step [392/1000], Loss1: 0.0000,  Loss3: 1.0000\n",
            "Epoch[1/1], Step [393/1000], Loss1: 0.0000,  Loss3: 1.0000\n",
            "Epoch[1/1], Step [394/1000], Loss1: 0.7138,  Loss3: 0.7313\n",
            "Epoch[1/1], Step [395/1000], Loss1: 0.9770,  Loss3: 0.4161\n",
            "Epoch[1/1], Step [396/1000], Loss1: 0.1520,  Loss3: 0.9430\n",
            "Epoch[1/1], Step [397/1000], Loss1: 0.0125,  Loss3: 0.9966\n",
            "Epoch[1/1], Step [398/1000], Loss1: 0.1514,  Loss3: 0.9464\n",
            "Epoch[1/1], Step [399/1000], Loss1: 0.0000,  Loss3: 1.0000\n",
            "Epoch[1/1], Step [400/1000], Loss1: 0.0000,  Loss3: 1.0000\n",
            "Epoch[1/1], Step [401/1000], Loss1: 1.0129,  Loss3: 0.3860\n",
            "Epoch[1/1], Step [402/1000], Loss1: 0.0000,  Loss3: 1.0000\n",
            "Epoch[1/1], Step [403/1000], Loss1: 0.0000,  Loss3: 1.0000\n",
            "Epoch[1/1], Step [404/1000], Loss1: 0.0000,  Loss3: 1.0000\n",
            "Epoch[1/1], Step [405/1000], Loss1: 0.0000,  Loss3: 1.0000\n",
            "Epoch[1/1], Step [406/1000], Loss1: 0.8321,  Loss3: 0.4755\n",
            "Epoch[1/1], Step [407/1000], Loss1: 0.6382,  Loss3: 0.5543\n",
            "Epoch[1/1], Step [408/1000], Loss1: 0.0339,  Loss3: 0.9902\n",
            "Epoch[1/1], Step [409/1000], Loss1: 0.0155,  Loss3: 0.9961\n",
            "Epoch[1/1], Step [410/1000], Loss1: 0.0001,  Loss3: 1.0000\n",
            "Epoch[1/1], Step [411/1000], Loss1: 0.0000,  Loss3: 1.0000\n",
            "Epoch[1/1], Step [412/1000], Loss1: 0.0000,  Loss3: 1.0000\n",
            "Epoch[1/1], Step [413/1000], Loss1: 0.6875,  Loss3: 0.5057\n",
            "Epoch[1/1], Step [414/1000], Loss1: 0.0315,  Loss3: 0.9901\n",
            "Epoch[1/1], Step [415/1000], Loss1: 0.0001,  Loss3: 1.0000\n",
            "Epoch[1/1], Step [416/1000], Loss1: 0.3712,  Loss3: 0.7856\n",
            "Epoch[1/1], Step [417/1000], Loss1: 0.0001,  Loss3: 1.0000\n",
            "Epoch[1/1], Step [418/1000], Loss1: 0.0000,  Loss3: 1.0000\n",
            "Epoch[1/1], Step [419/1000], Loss1: 0.0000,  Loss3: 1.0000\n",
            "Epoch[1/1], Step [420/1000], Loss1: 0.0000,  Loss3: 1.0000\n",
            "Epoch[1/1], Step [421/1000], Loss1: 0.3894,  Loss3: 0.8179\n",
            "Epoch[1/1], Step [422/1000], Loss1: 0.0833,  Loss3: 0.9680\n",
            "Epoch[1/1], Step [423/1000], Loss1: 0.0453,  Loss3: 0.9853\n",
            "Epoch[1/1], Step [424/1000], Loss1: 0.0000,  Loss3: 1.0000\n",
            "Epoch[1/1], Step [425/1000], Loss1: 0.2677,  Loss3: 0.8605\n",
            "Epoch[1/1], Step [426/1000], Loss1: 0.0277,  Loss3: 0.9915\n",
            "Epoch[1/1], Step [427/1000], Loss1: 0.9192,  Loss3: 0.4502\n",
            "Epoch[1/1], Step [428/1000], Loss1: 0.0206,  Loss3: 0.9943\n",
            "Epoch[1/1], Step [429/1000], Loss1: 0.5903,  Loss3: 0.6149\n",
            "Epoch[1/1], Step [430/1000], Loss1: 0.5452,  Loss3: 0.6428\n",
            "Epoch[1/1], Step [431/1000], Loss1: 0.6466,  Loss3: 0.5458\n",
            "Epoch[1/1], Step [432/1000], Loss1: 0.0000,  Loss3: 1.0000\n",
            "Epoch[1/1], Step [433/1000], Loss1: 0.2147,  Loss3: 0.8950\n",
            "Epoch[1/1], Step [434/1000], Loss1: 0.0000,  Loss3: 1.0000\n",
            "Epoch[1/1], Step [435/1000], Loss1: 0.0000,  Loss3: 1.0000\n",
            "Epoch[1/1], Step [436/1000], Loss1: 0.1157,  Loss3: 0.9519\n",
            "Epoch[1/1], Step [437/1000], Loss1: 0.0000,  Loss3: 1.0000\n",
            "Epoch[1/1], Step [438/1000], Loss1: 0.0012,  Loss3: 0.9998\n",
            "Epoch[1/1], Step [439/1000], Loss1: 0.0000,  Loss3: 1.0000\n",
            "Epoch[1/1], Step [440/1000], Loss1: 0.9222,  Loss3: 0.4661\n",
            "Epoch[1/1], Step [441/1000], Loss1: 0.6965,  Loss3: 0.4998\n",
            "Epoch[1/1], Step [442/1000], Loss1: 0.0063,  Loss3: 0.9986\n",
            "Epoch[1/1], Step [443/1000], Loss1: 0.4801,  Loss3: 0.7624\n",
            "Epoch[1/1], Step [444/1000], Loss1: 0.0000,  Loss3: 1.0000\n",
            "Epoch[1/1], Step [445/1000], Loss1: 0.0000,  Loss3: 1.0000\n",
            "Epoch[1/1], Step [446/1000], Loss1: 0.0000,  Loss3: 1.0000\n",
            "Epoch[1/1], Step [447/1000], Loss1: 0.0000,  Loss3: 1.0000\n",
            "Epoch[1/1], Step [448/1000], Loss1: 0.0013,  Loss3: 0.9997\n",
            "Epoch[1/1], Step [449/1000], Loss1: 0.0003,  Loss3: 0.9999\n",
            "Epoch[1/1], Step [450/1000], Loss1: 0.0000,  Loss3: 1.0000\n",
            "Epoch[1/1], Step [451/1000], Loss1: 0.0990,  Loss3: 0.9631\n",
            "Epoch[1/1], Step [452/1000], Loss1: 0.6421,  Loss3: 0.5502\n",
            "Epoch[1/1], Step [453/1000], Loss1: 0.0001,  Loss3: 1.0000\n",
            "Epoch[1/1], Step [454/1000], Loss1: 0.0357,  Loss3: 0.9884\n",
            "Epoch[1/1], Step [455/1000], Loss1: 0.0169,  Loss3: 0.9956\n",
            "Epoch[1/1], Step [456/1000], Loss1: 0.0000,  Loss3: 1.0000\n",
            "Epoch[1/1], Step [457/1000], Loss1: 0.0005,  Loss3: 0.9999\n",
            "Epoch[1/1], Step [458/1000], Loss1: 0.0000,  Loss3: 1.0000\n",
            "Epoch[1/1], Step [459/1000], Loss1: 0.7522,  Loss3: 0.4967\n",
            "Epoch[1/1], Step [460/1000], Loss1: 0.0000,  Loss3: 1.0000\n",
            "Epoch[1/1], Step [461/1000], Loss1: 0.0000,  Loss3: 1.0000\n",
            "Epoch[1/1], Step [462/1000], Loss1: 0.0000,  Loss3: 1.0000\n",
            "Epoch[1/1], Step [463/1000], Loss1: 0.0291,  Loss3: 0.9910\n",
            "Epoch[1/1], Step [464/1000], Loss1: 0.0000,  Loss3: 1.0000\n",
            "Epoch[1/1], Step [465/1000], Loss1: 0.0000,  Loss3: 1.0000\n",
            "Epoch[1/1], Step [466/1000], Loss1: 0.0000,  Loss3: 1.0000\n",
            "Epoch[1/1], Step [467/1000], Loss1: 0.0000,  Loss3: 1.0000\n",
            "Epoch[1/1], Step [468/1000], Loss1: 0.0007,  Loss3: 0.9999\n",
            "Epoch[1/1], Step [469/1000], Loss1: 0.0000,  Loss3: 1.0000\n",
            "Epoch[1/1], Step [470/1000], Loss1: 0.5215,  Loss3: 0.6616\n",
            "Epoch[1/1], Step [471/1000], Loss1: 0.0004,  Loss3: 0.9999\n",
            "Epoch[1/1], Step [472/1000], Loss1: 0.0000,  Loss3: 1.0000\n",
            "Epoch[1/1], Step [473/1000], Loss1: 0.0355,  Loss3: 0.9885\n",
            "Epoch[1/1], Step [474/1000], Loss1: 0.6550,  Loss3: 0.5376\n",
            "Epoch[1/1], Step [475/1000], Loss1: 0.0000,  Loss3: 1.0000\n",
            "Epoch[1/1], Step [476/1000], Loss1: 0.0000,  Loss3: 1.0000\n",
            "Epoch[1/1], Step [477/1000], Loss1: 0.0000,  Loss3: 1.0000\n",
            "Epoch[1/1], Step [478/1000], Loss1: 0.4828,  Loss3: 0.6951\n",
            "Epoch[1/1], Step [479/1000], Loss1: 0.9688,  Loss3: 0.7315\n",
            "Epoch[1/1], Step [480/1000], Loss1: 0.6931,  Loss3: 0.5048\n",
            "Epoch[1/1], Step [481/1000], Loss1: 0.6011,  Loss3: 0.5892\n",
            "Epoch[1/1], Step [482/1000], Loss1: 0.4294,  Loss3: 0.7499\n",
            "Epoch[1/1], Step [483/1000], Loss1: 0.0001,  Loss3: 1.0000\n",
            "Epoch[1/1], Step [484/1000], Loss1: 0.2164,  Loss3: 0.9082\n",
            "Epoch[1/1], Step [485/1000], Loss1: 0.4397,  Loss3: 0.7312\n",
            "Epoch[1/1], Step [486/1000], Loss1: 0.4174,  Loss3: 0.7513\n",
            "Epoch[1/1], Step [487/1000], Loss1: 0.0025,  Loss3: 0.9995\n",
            "Epoch[1/1], Step [488/1000], Loss1: 0.9043,  Loss3: 0.4673\n",
            "Epoch[1/1], Step [489/1000], Loss1: 0.0002,  Loss3: 1.0000\n",
            "Epoch[1/1], Step [490/1000], Loss1: 0.0015,  Loss3: 0.9997\n",
            "Epoch[1/1], Step [491/1000], Loss1: 0.0005,  Loss3: 0.9999\n",
            "Epoch[1/1], Step [492/1000], Loss1: 0.5870,  Loss3: 0.6024\n",
            "Epoch[1/1], Step [493/1000], Loss1: 0.0007,  Loss3: 0.9999\n",
            "Epoch[1/1], Step [494/1000], Loss1: 0.5446,  Loss3: 0.7155\n",
            "Epoch[1/1], Step [495/1000], Loss1: 0.0731,  Loss3: 0.9734\n",
            "Epoch[1/1], Step [496/1000], Loss1: 0.7468,  Loss3: 0.6922\n",
            "Epoch[1/1], Step [497/1000], Loss1: 0.3359,  Loss3: 0.8667\n",
            "Epoch[1/1], Step [498/1000], Loss1: 0.0000,  Loss3: 1.0000\n",
            "Epoch[1/1], Step [499/1000], Loss1: 0.7255,  Loss3: 0.6625\n",
            "Epoch[1/1], Step [500/1000], Loss1: 0.0057,  Loss3: 0.9987\n",
            "Epoch[1/1], Step [501/1000], Loss1: 0.0000,  Loss3: 1.0000\n",
            "Epoch[1/1], Step [502/1000], Loss1: 0.0000,  Loss3: 1.0000\n",
            "Epoch[1/1], Step [503/1000], Loss1: 0.6267,  Loss3: 0.5649\n",
            "Epoch[1/1], Step [504/1000], Loss1: 0.9962,  Loss3: 0.4048\n",
            "Epoch[1/1], Step [505/1000], Loss1: 0.1098,  Loss3: 0.9559\n",
            "Epoch[1/1], Step [506/1000], Loss1: 0.6670,  Loss3: 0.5393\n",
            "Epoch[1/1], Step [507/1000], Loss1: 0.3382,  Loss3: 0.8216\n",
            "Epoch[1/1], Step [508/1000], Loss1: 0.0000,  Loss3: 1.0000\n",
            "Epoch[1/1], Step [509/1000], Loss1: 0.0035,  Loss3: 0.9993\n",
            "Epoch[1/1], Step [510/1000], Loss1: 0.0000,  Loss3: 1.0000\n",
            "Epoch[1/1], Step [511/1000], Loss1: 0.3770,  Loss3: 0.7816\n",
            "Epoch[1/1], Step [512/1000], Loss1: 0.5507,  Loss3: 0.7419\n",
            "Epoch[1/1], Step [513/1000], Loss1: 0.0006,  Loss3: 0.9999\n",
            "Epoch[1/1], Step [514/1000], Loss1: 0.6896,  Loss3: 0.5171\n",
            "Epoch[1/1], Step [515/1000], Loss1: 0.0747,  Loss3: 0.9719\n",
            "Epoch[1/1], Step [516/1000], Loss1: 0.0000,  Loss3: 1.0000\n",
            "Epoch[1/1], Step [517/1000], Loss1: 0.0473,  Loss3: 0.9839\n",
            "Epoch[1/1], Step [518/1000], Loss1: 0.1163,  Loss3: 0.9515\n",
            "Epoch[1/1], Step [519/1000], Loss1: 0.0000,  Loss3: 1.0000\n",
            "Epoch[1/1], Step [520/1000], Loss1: 0.0887,  Loss3: 0.9674\n",
            "Epoch[1/1], Step [521/1000], Loss1: 0.0000,  Loss3: 1.0000\n",
            "Epoch[1/1], Step [522/1000], Loss1: 0.0088,  Loss3: 0.9978\n",
            "Epoch[1/1], Step [523/1000], Loss1: 0.0679,  Loss3: 0.9774\n",
            "Epoch[1/1], Step [524/1000], Loss1: 0.0324,  Loss3: 0.9900\n",
            "Epoch[1/1], Step [525/1000], Loss1: 0.0000,  Loss3: 1.0000\n",
            "Epoch[1/1], Step [526/1000], Loss1: 0.0000,  Loss3: 1.0000\n",
            "Epoch[1/1], Step [527/1000], Loss1: 0.1714,  Loss3: 0.9212\n",
            "Epoch[1/1], Step [528/1000], Loss1: 0.2475,  Loss3: 0.8739\n",
            "Epoch[1/1], Step [529/1000], Loss1: 0.0000,  Loss3: 1.0000\n",
            "Epoch[1/1], Step [530/1000], Loss1: 0.0396,  Loss3: 0.9869\n",
            "Epoch[1/1], Step [531/1000], Loss1: 0.0000,  Loss3: 1.0000\n",
            "Epoch[1/1], Step [532/1000], Loss1: 0.0000,  Loss3: 1.0000\n",
            "Epoch[1/1], Step [533/1000], Loss1: 0.0001,  Loss3: 1.0000\n",
            "Epoch[1/1], Step [534/1000], Loss1: 0.0000,  Loss3: 1.0000\n",
            "Epoch[1/1], Step [535/1000], Loss1: 0.0000,  Loss3: 1.0000\n",
            "Epoch[1/1], Step [536/1000], Loss1: 0.0016,  Loss3: 0.9997\n",
            "Epoch[1/1], Step [537/1000], Loss1: 0.0000,  Loss3: 1.0000\n",
            "Epoch[1/1], Step [538/1000], Loss1: 0.1528,  Loss3: 0.9422\n",
            "Epoch[1/1], Step [539/1000], Loss1: 0.0005,  Loss3: 0.9999\n",
            "Epoch[1/1], Step [540/1000], Loss1: 0.0000,  Loss3: 1.0000\n",
            "Epoch[1/1], Step [541/1000], Loss1: 0.0000,  Loss3: 1.0000\n",
            "Epoch[1/1], Step [542/1000], Loss1: 0.0000,  Loss3: 1.0000\n",
            "Epoch[1/1], Step [543/1000], Loss1: 0.3504,  Loss3: 0.8504\n",
            "Epoch[1/1], Step [544/1000], Loss1: 0.0062,  Loss3: 0.9985\n",
            "Epoch[1/1], Step [545/1000], Loss1: 0.0344,  Loss3: 0.9890\n",
            "Epoch[1/1], Step [546/1000], Loss1: 0.0001,  Loss3: 1.0000\n",
            "Epoch[1/1], Step [547/1000], Loss1: 0.0990,  Loss3: 0.9633\n",
            "Epoch[1/1], Step [548/1000], Loss1: 0.0008,  Loss3: 0.9999\n",
            "Epoch[1/1], Step [549/1000], Loss1: 0.0000,  Loss3: 1.0000\n",
            "Epoch[1/1], Step [550/1000], Loss1: 0.9467,  Loss3: 0.4319\n",
            "Epoch[1/1], Step [551/1000], Loss1: 0.0039,  Loss3: 0.9991\n",
            "Epoch[1/1], Step [552/1000], Loss1: 0.0000,  Loss3: 1.0000\n",
            "Epoch[1/1], Step [553/1000], Loss1: 0.0010,  Loss3: 0.9998\n",
            "Epoch[1/1], Step [554/1000], Loss1: 0.0238,  Loss3: 0.9933\n",
            "Epoch[1/1], Step [555/1000], Loss1: 0.0177,  Loss3: 0.9950\n",
            "Epoch[1/1], Step [556/1000], Loss1: 0.0018,  Loss3: 0.9996\n",
            "Epoch[1/1], Step [557/1000], Loss1: 0.0965,  Loss3: 0.9616\n",
            "Epoch[1/1], Step [558/1000], Loss1: 0.0085,  Loss3: 0.9978\n",
            "Epoch[1/1], Step [559/1000], Loss1: 0.6273,  Loss3: 0.6625\n",
            "Epoch[1/1], Step [560/1000], Loss1: 0.0000,  Loss3: 1.0000\n",
            "Epoch[1/1], Step [561/1000], Loss1: 0.0000,  Loss3: 1.0000\n",
            "Epoch[1/1], Step [562/1000], Loss1: 0.6130,  Loss3: 0.5780\n",
            "Epoch[1/1], Step [563/1000], Loss1: 0.0000,  Loss3: 1.0000\n",
            "Epoch[1/1], Step [564/1000], Loss1: 0.6822,  Loss3: 0.5283\n",
            "Epoch[1/1], Step [565/1000], Loss1: 0.0000,  Loss3: 1.0000\n",
            "Epoch[1/1], Step [566/1000], Loss1: 0.0000,  Loss3: 1.0000\n",
            "Epoch[1/1], Step [567/1000], Loss1: 0.1244,  Loss3: 0.9473\n",
            "Epoch[1/1], Step [568/1000], Loss1: 0.0844,  Loss3: 0.9674\n",
            "Epoch[1/1], Step [569/1000], Loss1: 0.3741,  Loss3: 0.8339\n",
            "Epoch[1/1], Step [570/1000], Loss1: 0.0000,  Loss3: 1.0000\n",
            "Epoch[1/1], Step [571/1000], Loss1: 0.0000,  Loss3: 1.0000\n",
            "Epoch[1/1], Step [572/1000], Loss1: 0.3435,  Loss3: 0.8064\n",
            "Epoch[1/1], Step [573/1000], Loss1: 0.0000,  Loss3: 1.0000\n",
            "Epoch[1/1], Step [574/1000], Loss1: 0.1506,  Loss3: 0.9387\n",
            "Epoch[1/1], Step [575/1000], Loss1: 0.0849,  Loss3: 0.9679\n",
            "Epoch[1/1], Step [576/1000], Loss1: 0.0000,  Loss3: 1.0000\n",
            "Epoch[1/1], Step [577/1000], Loss1: 0.0029,  Loss3: 0.9994\n",
            "Epoch[1/1], Step [578/1000], Loss1: 0.0000,  Loss3: 1.0000\n",
            "Epoch[1/1], Step [579/1000], Loss1: 0.0046,  Loss3: 0.9989\n",
            "Epoch[1/1], Step [580/1000], Loss1: 0.0000,  Loss3: 1.0000\n",
            "Epoch[1/1], Step [581/1000], Loss1: 0.0040,  Loss3: 0.9992\n",
            "Epoch[1/1], Step [582/1000], Loss1: 0.5075,  Loss3: 0.6745\n",
            "Epoch[1/1], Step [583/1000], Loss1: 0.0100,  Loss3: 0.9974\n",
            "Epoch[1/1], Step [584/1000], Loss1: 0.0000,  Loss3: 1.0000\n",
            "Epoch[1/1], Step [585/1000], Loss1: 0.1314,  Loss3: 0.9436\n",
            "Epoch[1/1], Step [586/1000], Loss1: 0.0000,  Loss3: 1.0000\n",
            "Epoch[1/1], Step [587/1000], Loss1: 0.1400,  Loss3: 0.9389\n",
            "Epoch[1/1], Step [588/1000], Loss1: 0.0708,  Loss3: 0.9737\n",
            "Epoch[1/1], Step [589/1000], Loss1: 0.0000,  Loss3: 1.0000\n",
            "Epoch[1/1], Step [590/1000], Loss1: 0.0000,  Loss3: 1.0000\n",
            "Epoch[1/1], Step [591/1000], Loss1: 0.0000,  Loss3: 1.0000\n",
            "Epoch[1/1], Step [592/1000], Loss1: 0.0000,  Loss3: 1.0000\n",
            "Epoch[1/1], Step [593/1000], Loss1: 0.0000,  Loss3: 1.0000\n",
            "Epoch[1/1], Step [594/1000], Loss1: 0.0000,  Loss3: 1.0000\n",
            "Epoch[1/1], Step [595/1000], Loss1: 1.3455,  Loss3: 0.2896\n",
            "Epoch[1/1], Step [596/1000], Loss1: 0.0000,  Loss3: 1.0000\n",
            "Epoch[1/1], Step [597/1000], Loss1: 0.0000,  Loss3: 1.0000\n",
            "Epoch[1/1], Step [598/1000], Loss1: 0.0000,  Loss3: 1.0000\n",
            "Epoch[1/1], Step [599/1000], Loss1: 0.0000,  Loss3: 1.0000\n",
            "Epoch[1/1], Step [600/1000], Loss1: 0.0000,  Loss3: 1.0000\n",
            "Epoch[1/1], Step [601/1000], Loss1: 0.0024,  Loss3: 0.9995\n",
            "Epoch[1/1], Step [602/1000], Loss1: 0.0000,  Loss3: 1.0000\n",
            "Epoch[1/1], Step [603/1000], Loss1: 0.0103,  Loss3: 0.9975\n",
            "Epoch[1/1], Step [604/1000], Loss1: 0.0019,  Loss3: 0.9996\n",
            "Epoch[1/1], Step [605/1000], Loss1: 0.0150,  Loss3: 0.9962\n",
            "Epoch[1/1], Step [606/1000], Loss1: 0.0079,  Loss3: 0.9983\n",
            "Epoch[1/1], Step [607/1000], Loss1: 0.0000,  Loss3: 1.0000\n",
            "Epoch[1/1], Step [608/1000], Loss1: 0.0001,  Loss3: 1.0000\n",
            "Epoch[1/1], Step [609/1000], Loss1: 0.6844,  Loss3: 0.5087\n",
            "Epoch[1/1], Step [610/1000], Loss1: 0.0000,  Loss3: 1.0000\n",
            "Epoch[1/1], Step [611/1000], Loss1: 0.0000,  Loss3: 1.0000\n",
            "Epoch[1/1], Step [612/1000], Loss1: 0.0099,  Loss3: 0.9974\n",
            "Epoch[1/1], Step [613/1000], Loss1: 0.0000,  Loss3: 1.0000\n",
            "Epoch[1/1], Step [614/1000], Loss1: 0.0000,  Loss3: 1.0000\n",
            "Epoch[1/1], Step [615/1000], Loss1: 0.0000,  Loss3: 1.0000\n",
            "Epoch[1/1], Step [616/1000], Loss1: 0.0000,  Loss3: 1.0000\n",
            "Epoch[1/1], Step [617/1000], Loss1: 0.1594,  Loss3: 0.9281\n",
            "Epoch[1/1], Step [618/1000], Loss1: 0.0000,  Loss3: 1.0000\n",
            "Epoch[1/1], Step [619/1000], Loss1: 0.0000,  Loss3: 1.0000\n",
            "Epoch[1/1], Step [620/1000], Loss1: 0.0000,  Loss3: 1.0000\n",
            "Epoch[1/1], Step [621/1000], Loss1: 0.0159,  Loss3: 0.9960\n",
            "Epoch[1/1], Step [622/1000], Loss1: 0.0158,  Loss3: 0.9956\n",
            "Epoch[1/1], Step [623/1000], Loss1: 0.0000,  Loss3: 1.0000\n",
            "Epoch[1/1], Step [624/1000], Loss1: 0.0773,  Loss3: 0.9707\n",
            "Epoch[1/1], Step [625/1000], Loss1: 0.0000,  Loss3: 1.0000\n",
            "Epoch[1/1], Step [626/1000], Loss1: 0.0000,  Loss3: 1.0000\n",
            "Epoch[1/1], Step [627/1000], Loss1: 0.1557,  Loss3: 0.9305\n",
            "Epoch[1/1], Step [628/1000], Loss1: 0.0006,  Loss3: 0.9999\n",
            "Epoch[1/1], Step [629/1000], Loss1: 0.6861,  Loss3: 0.5071\n",
            "Epoch[1/1], Step [630/1000], Loss1: 0.0141,  Loss3: 0.9961\n",
            "Epoch[1/1], Step [631/1000], Loss1: 0.0140,  Loss3: 0.9962\n",
            "Epoch[1/1], Step [632/1000], Loss1: 0.0000,  Loss3: 1.0000\n",
            "Epoch[1/1], Step [633/1000], Loss1: 0.0000,  Loss3: 1.0000\n",
            "Epoch[1/1], Step [634/1000], Loss1: 0.0000,  Loss3: 1.0000\n",
            "Epoch[1/1], Step [635/1000], Loss1: 0.0000,  Loss3: 1.0000\n",
            "Epoch[1/1], Step [636/1000], Loss1: 0.0000,  Loss3: 1.0000\n",
            "Epoch[1/1], Step [637/1000], Loss1: 0.5826,  Loss3: 0.6065\n",
            "Epoch[1/1], Step [638/1000], Loss1: 0.0572,  Loss3: 0.9820\n",
            "Epoch[1/1], Step [639/1000], Loss1: 0.0000,  Loss3: 1.0000\n",
            "Epoch[1/1], Step [640/1000], Loss1: 0.0000,  Loss3: 1.0000\n",
            "Epoch[1/1], Step [641/1000], Loss1: 0.0216,  Loss3: 0.9936\n",
            "Epoch[1/1], Step [642/1000], Loss1: 0.0000,  Loss3: 1.0000\n",
            "Epoch[1/1], Step [643/1000], Loss1: 0.0000,  Loss3: 1.0000\n",
            "Epoch[1/1], Step [644/1000], Loss1: 0.0000,  Loss3: 1.0000\n",
            "Epoch[1/1], Step [645/1000], Loss1: 0.4145,  Loss3: 0.7516\n",
            "Epoch[1/1], Step [646/1000], Loss1: 0.0000,  Loss3: 1.0000\n",
            "Epoch[1/1], Step [647/1000], Loss1: 0.0000,  Loss3: 1.0000\n",
            "Epoch[1/1], Step [648/1000], Loss1: 0.0408,  Loss3: 0.9875\n",
            "Epoch[1/1], Step [649/1000], Loss1: 0.6891,  Loss3: 0.5066\n",
            "Epoch[1/1], Step [650/1000], Loss1: 0.0240,  Loss3: 0.9928\n",
            "Epoch[1/1], Step [651/1000], Loss1: 0.0000,  Loss3: 1.0000\n",
            "Epoch[1/1], Step [652/1000], Loss1: 0.0137,  Loss3: 0.9965\n",
            "Epoch[1/1], Step [653/1000], Loss1: 0.0073,  Loss3: 0.9982\n",
            "Epoch[1/1], Step [654/1000], Loss1: 0.1763,  Loss3: 0.9188\n",
            "Epoch[1/1], Step [655/1000], Loss1: 0.0000,  Loss3: 1.0000\n",
            "Epoch[1/1], Step [656/1000], Loss1: 0.0000,  Loss3: 1.0000\n",
            "Epoch[1/1], Step [657/1000], Loss1: 0.0000,  Loss3: 1.0000\n",
            "Epoch[1/1], Step [658/1000], Loss1: 0.0000,  Loss3: 1.0000\n",
            "Epoch[1/1], Step [659/1000], Loss1: 0.0000,  Loss3: 1.0000\n",
            "Epoch[1/1], Step [660/1000], Loss1: 0.0000,  Loss3: 1.0000\n",
            "Epoch[1/1], Step [661/1000], Loss1: 0.0013,  Loss3: 0.9997\n",
            "Epoch[1/1], Step [662/1000], Loss1: 1.2900,  Loss3: 0.4204\n",
            "Epoch[1/1], Step [663/1000], Loss1: 0.0000,  Loss3: 1.0000\n",
            "Epoch[1/1], Step [664/1000], Loss1: 0.0138,  Loss3: 0.9964\n",
            "Epoch[1/1], Step [665/1000], Loss1: 0.0000,  Loss3: 1.0000\n",
            "Epoch[1/1], Step [666/1000], Loss1: 0.6204,  Loss3: 0.5710\n",
            "Epoch[1/1], Step [667/1000], Loss1: 0.0010,  Loss3: 0.9998\n",
            "Epoch[1/1], Step [668/1000], Loss1: 0.0819,  Loss3: 0.9686\n",
            "Epoch[1/1], Step [669/1000], Loss1: 0.0000,  Loss3: 1.0000\n",
            "Epoch[1/1], Step [670/1000], Loss1: 0.0000,  Loss3: 1.0000\n",
            "Epoch[1/1], Step [671/1000], Loss1: 0.0000,  Loss3: 1.0000\n",
            "Epoch[1/1], Step [672/1000], Loss1: 0.0000,  Loss3: 1.0000\n",
            "Epoch[1/1], Step [673/1000], Loss1: 0.1465,  Loss3: 0.9400\n",
            "Epoch[1/1], Step [674/1000], Loss1: 0.0030,  Loss3: 0.9994\n",
            "Epoch[1/1], Step [675/1000], Loss1: 0.6210,  Loss3: 0.5704\n",
            "Epoch[1/1], Step [676/1000], Loss1: 0.0000,  Loss3: 1.0000\n",
            "Epoch[1/1], Step [677/1000], Loss1: 0.0001,  Loss3: 1.0000\n",
            "Epoch[1/1], Step [678/1000], Loss1: 0.0000,  Loss3: 1.0000\n",
            "Epoch[1/1], Step [679/1000], Loss1: 0.0000,  Loss3: 1.0000\n",
            "Epoch[1/1], Step [680/1000], Loss1: 0.0706,  Loss3: 0.9771\n",
            "Epoch[1/1], Step [681/1000], Loss1: 0.0000,  Loss3: 1.0000\n",
            "Epoch[1/1], Step [682/1000], Loss1: 0.0000,  Loss3: 1.0000\n",
            "Epoch[1/1], Step [683/1000], Loss1: 0.6899,  Loss3: 0.5074\n",
            "Epoch[1/1], Step [684/1000], Loss1: 0.0000,  Loss3: 1.0000\n",
            "Epoch[1/1], Step [685/1000], Loss1: 0.0000,  Loss3: 1.0000\n",
            "Epoch[1/1], Step [686/1000], Loss1: 0.0000,  Loss3: 1.0000\n",
            "Epoch[1/1], Step [687/1000], Loss1: 0.6489,  Loss3: 0.6655\n",
            "Epoch[1/1], Step [688/1000], Loss1: 0.0000,  Loss3: 1.0000\n",
            "Epoch[1/1], Step [689/1000], Loss1: 0.0000,  Loss3: 1.0000\n",
            "Epoch[1/1], Step [690/1000], Loss1: 0.3255,  Loss3: 0.8197\n",
            "Epoch[1/1], Step [691/1000], Loss1: 0.0925,  Loss3: 0.9637\n",
            "Epoch[1/1], Step [692/1000], Loss1: 0.0221,  Loss3: 0.9938\n",
            "Epoch[1/1], Step [693/1000], Loss1: 0.0000,  Loss3: 1.0000\n",
            "Epoch[1/1], Step [694/1000], Loss1: 0.0000,  Loss3: 1.0000\n",
            "Epoch[1/1], Step [695/1000], Loss1: 0.0000,  Loss3: 1.0000\n",
            "Epoch[1/1], Step [696/1000], Loss1: 0.4546,  Loss3: 0.7189\n",
            "Epoch[1/1], Step [697/1000], Loss1: 0.0000,  Loss3: 1.0000\n",
            "Epoch[1/1], Step [698/1000], Loss1: 0.0000,  Loss3: 1.0000\n",
            "Epoch[1/1], Step [699/1000], Loss1: 0.0000,  Loss3: 1.0000\n",
            "Epoch[1/1], Step [700/1000], Loss1: 0.0158,  Loss3: 0.9956\n",
            "Epoch[1/1], Step [701/1000], Loss1: 0.6969,  Loss3: 0.5007\n",
            "Epoch[1/1], Step [702/1000], Loss1: 0.0000,  Loss3: 1.0000\n",
            "Epoch[1/1], Step [703/1000], Loss1: 0.0000,  Loss3: 1.0000\n",
            "Epoch[1/1], Step [704/1000], Loss1: 0.0000,  Loss3: 1.0000\n",
            "Epoch[1/1], Step [705/1000], Loss1: 0.0000,  Loss3: 1.0000\n",
            "Epoch[1/1], Step [706/1000], Loss1: 0.6856,  Loss3: 0.5077\n",
            "Epoch[1/1], Step [707/1000], Loss1: 0.0000,  Loss3: 1.0000\n",
            "Epoch[1/1], Step [708/1000], Loss1: 0.3203,  Loss3: 0.8235\n",
            "Epoch[1/1], Step [709/1000], Loss1: 0.0039,  Loss3: 0.9991\n",
            "Epoch[1/1], Step [710/1000], Loss1: 0.1403,  Loss3: 0.9388\n",
            "Epoch[1/1], Step [711/1000], Loss1: 0.0082,  Loss3: 0.9979\n",
            "Epoch[1/1], Step [712/1000], Loss1: 0.1601,  Loss3: 0.9296\n",
            "Epoch[1/1], Step [713/1000], Loss1: 0.0000,  Loss3: 1.0000\n",
            "Epoch[1/1], Step [714/1000], Loss1: 0.0031,  Loss3: 0.9993\n",
            "Epoch[1/1], Step [715/1000], Loss1: 0.0000,  Loss3: 1.0000\n",
            "Epoch[1/1], Step [716/1000], Loss1: 0.0003,  Loss3: 1.0000\n",
            "Epoch[1/1], Step [717/1000], Loss1: 0.0000,  Loss3: 1.0000\n",
            "Epoch[1/1], Step [718/1000], Loss1: 0.0000,  Loss3: 1.0000\n",
            "Epoch[1/1], Step [719/1000], Loss1: 0.0545,  Loss3: 0.9808\n",
            "Epoch[1/1], Step [720/1000], Loss1: 0.6852,  Loss3: 0.5080\n",
            "Epoch[1/1], Step [721/1000], Loss1: 0.0000,  Loss3: 1.0000\n",
            "Epoch[1/1], Step [722/1000], Loss1: 0.0036,  Loss3: 0.9992\n",
            "Epoch[1/1], Step [723/1000], Loss1: 0.0000,  Loss3: 1.0000\n",
            "Epoch[1/1], Step [724/1000], Loss1: 0.3855,  Loss3: 0.8566\n",
            "Epoch[1/1], Step [725/1000], Loss1: 0.0377,  Loss3: 0.9879\n",
            "Epoch[1/1], Step [726/1000], Loss1: 0.0003,  Loss3: 0.9999\n",
            "Epoch[1/1], Step [727/1000], Loss1: 0.0000,  Loss3: 1.0000\n",
            "Epoch[1/1], Step [728/1000], Loss1: 0.0000,  Loss3: 1.0000\n",
            "Epoch[1/1], Step [729/1000], Loss1: 0.0000,  Loss3: 1.0000\n",
            "Epoch[1/1], Step [730/1000], Loss1: 0.0000,  Loss3: 1.0000\n",
            "Epoch[1/1], Step [731/1000], Loss1: 0.0000,  Loss3: 1.0000\n",
            "Epoch[1/1], Step [732/1000], Loss1: 0.0000,  Loss3: 1.0000\n",
            "Epoch[1/1], Step [733/1000], Loss1: 0.0000,  Loss3: 1.0000\n",
            "Epoch[1/1], Step [734/1000], Loss1: 0.1549,  Loss3: 0.9308\n",
            "Epoch[1/1], Step [735/1000], Loss1: 0.0000,  Loss3: 1.0000\n",
            "Epoch[1/1], Step [736/1000], Loss1: 0.0183,  Loss3: 0.9953\n",
            "Epoch[1/1], Step [737/1000], Loss1: 0.0783,  Loss3: 0.9703\n",
            "Epoch[1/1], Step [738/1000], Loss1: 0.0001,  Loss3: 1.0000\n",
            "Epoch[1/1], Step [739/1000], Loss1: 0.5790,  Loss3: 0.6097\n",
            "Epoch[1/1], Step [740/1000], Loss1: 0.0001,  Loss3: 1.0000\n",
            "Epoch[1/1], Step [741/1000], Loss1: 0.0000,  Loss3: 1.0000\n",
            "Epoch[1/1], Step [742/1000], Loss1: 0.0000,  Loss3: 1.0000\n",
            "Epoch[1/1], Step [743/1000], Loss1: 0.0000,  Loss3: 1.0000\n",
            "Epoch[1/1], Step [744/1000], Loss1: 0.0000,  Loss3: 1.0000\n",
            "Epoch[1/1], Step [745/1000], Loss1: 0.0000,  Loss3: 1.0000\n",
            "Epoch[1/1], Step [746/1000], Loss1: 0.3654,  Loss3: 0.7900\n",
            "Epoch[1/1], Step [747/1000], Loss1: 0.0003,  Loss3: 1.0000\n",
            "Epoch[1/1], Step [748/1000], Loss1: 0.0000,  Loss3: 1.0000\n",
            "Epoch[1/1], Step [749/1000], Loss1: 0.0581,  Loss3: 0.9793\n",
            "Epoch[1/1], Step [750/1000], Loss1: 0.0000,  Loss3: 1.0000\n",
            "Epoch[1/1], Step [751/1000], Loss1: 0.5620,  Loss3: 0.6253\n",
            "Epoch[1/1], Step [752/1000], Loss1: 0.0307,  Loss3: 0.9903\n",
            "Epoch[1/1], Step [753/1000], Loss1: 0.0000,  Loss3: 1.0000\n",
            "Epoch[1/1], Step [754/1000], Loss1: 0.0000,  Loss3: 1.0000\n",
            "Epoch[1/1], Step [755/1000], Loss1: 0.0000,  Loss3: 1.0000\n",
            "Epoch[1/1], Step [756/1000], Loss1: 0.0000,  Loss3: 1.0000\n",
            "Epoch[1/1], Step [757/1000], Loss1: 0.4010,  Loss3: 0.7624\n",
            "Epoch[1/1], Step [758/1000], Loss1: 0.0000,  Loss3: 1.0000\n",
            "Epoch[1/1], Step [759/1000], Loss1: 0.6532,  Loss3: 0.5394\n",
            "Epoch[1/1], Step [760/1000], Loss1: 0.0000,  Loss3: 1.0000\n",
            "Epoch[1/1], Step [761/1000], Loss1: 0.0000,  Loss3: 1.0000\n",
            "Epoch[1/1], Step [762/1000], Loss1: 0.0566,  Loss3: 0.9799\n",
            "Epoch[1/1], Step [763/1000], Loss1: 0.0000,  Loss3: 1.0000\n",
            "Epoch[1/1], Step [764/1000], Loss1: 0.0000,  Loss3: 1.0000\n",
            "Epoch[1/1], Step [765/1000], Loss1: 0.0000,  Loss3: 1.0000\n",
            "Epoch[1/1], Step [766/1000], Loss1: 0.0810,  Loss3: 0.9730\n",
            "Epoch[1/1], Step [767/1000], Loss1: 0.0000,  Loss3: 1.0000\n",
            "Epoch[1/1], Step [768/1000], Loss1: 0.0000,  Loss3: 1.0000\n",
            "Epoch[1/1], Step [769/1000], Loss1: 0.6038,  Loss3: 0.5867\n",
            "Epoch[1/1], Step [770/1000], Loss1: 0.0669,  Loss3: 0.9755\n",
            "Epoch[1/1], Step [771/1000], Loss1: 0.0000,  Loss3: 1.0000\n",
            "Epoch[1/1], Step [772/1000], Loss1: 0.0000,  Loss3: 1.0000\n",
            "Epoch[1/1], Step [773/1000], Loss1: 0.0002,  Loss3: 1.0000\n",
            "Epoch[1/1], Step [774/1000], Loss1: 0.0143,  Loss3: 0.9961\n",
            "Epoch[1/1], Step [775/1000], Loss1: 0.0000,  Loss3: 1.0000\n",
            "Epoch[1/1], Step [776/1000], Loss1: 0.6458,  Loss3: 0.6234\n",
            "Epoch[1/1], Step [777/1000], Loss1: 0.0000,  Loss3: 1.0000\n",
            "Epoch[1/1], Step [778/1000], Loss1: 1.0198,  Loss3: 0.3804\n",
            "Epoch[1/1], Step [779/1000], Loss1: 0.6928,  Loss3: 0.5004\n",
            "Epoch[1/1], Step [780/1000], Loss1: 0.0000,  Loss3: 1.0000\n",
            "Epoch[1/1], Step [781/1000], Loss1: 0.0095,  Loss3: 0.9975\n",
            "Epoch[1/1], Step [782/1000], Loss1: 0.6601,  Loss3: 0.5327\n",
            "Epoch[1/1], Step [783/1000], Loss1: 0.6471,  Loss3: 0.5927\n",
            "Epoch[1/1], Step [784/1000], Loss1: 0.0000,  Loss3: 1.0000\n",
            "Epoch[1/1], Step [785/1000], Loss1: 0.0001,  Loss3: 1.0000\n",
            "Epoch[1/1], Step [786/1000], Loss1: 0.0000,  Loss3: 1.0000\n",
            "Epoch[1/1], Step [787/1000], Loss1: 0.1225,  Loss3: 0.9483\n",
            "Epoch[1/1], Step [788/1000], Loss1: 0.0000,  Loss3: 1.0000\n",
            "Epoch[1/1], Step [789/1000], Loss1: 0.0000,  Loss3: 1.0000\n",
            "Epoch[1/1], Step [790/1000], Loss1: 0.4901,  Loss3: 0.6889\n",
            "Epoch[1/1], Step [791/1000], Loss1: 0.0000,  Loss3: 1.0000\n",
            "Epoch[1/1], Step [792/1000], Loss1: 0.0000,  Loss3: 1.0000\n",
            "Epoch[1/1], Step [793/1000], Loss1: 0.0000,  Loss3: 1.0000\n",
            "Epoch[1/1], Step [794/1000], Loss1: 0.0000,  Loss3: 1.0000\n",
            "Epoch[1/1], Step [795/1000], Loss1: 0.0000,  Loss3: 1.0000\n",
            "Epoch[1/1], Step [796/1000], Loss1: 0.0000,  Loss3: 1.0000\n",
            "Epoch[1/1], Step [797/1000], Loss1: 0.0000,  Loss3: 1.0000\n",
            "Epoch[1/1], Step [798/1000], Loss1: 0.0000,  Loss3: 1.0000\n",
            "Epoch[1/1], Step [799/1000], Loss1: 0.0000,  Loss3: 1.0000\n",
            "Epoch[1/1], Step [800/1000], Loss1: 0.0554,  Loss3: 0.9805\n",
            "Epoch[1/1], Step [801/1000], Loss1: 0.0000,  Loss3: 1.0000\n",
            "Epoch[1/1], Step [802/1000], Loss1: 0.0000,  Loss3: 1.0000\n",
            "Epoch[1/1], Step [803/1000], Loss1: 0.0000,  Loss3: 1.0000\n",
            "Epoch[1/1], Step [804/1000], Loss1: 0.0000,  Loss3: 1.0000\n",
            "Epoch[1/1], Step [805/1000], Loss1: 0.0000,  Loss3: 1.0000\n",
            "Epoch[1/1], Step [806/1000], Loss1: 0.0000,  Loss3: 1.0000\n",
            "Epoch[1/1], Step [807/1000], Loss1: 0.0000,  Loss3: 1.0000\n",
            "Epoch[1/1], Step [808/1000], Loss1: 0.0000,  Loss3: 1.0000\n",
            "Epoch[1/1], Step [809/1000], Loss1: 0.0000,  Loss3: 1.0000\n",
            "Epoch[1/1], Step [810/1000], Loss1: 0.0089,  Loss3: 0.9977\n",
            "Epoch[1/1], Step [811/1000], Loss1: 0.0000,  Loss3: 1.0000\n",
            "Epoch[1/1], Step [812/1000], Loss1: 0.0000,  Loss3: 1.0000\n",
            "Epoch[1/1], Step [813/1000], Loss1: 0.6912,  Loss3: 0.5032\n",
            "Epoch[1/1], Step [814/1000], Loss1: 0.0000,  Loss3: 1.0000\n",
            "Epoch[1/1], Step [815/1000], Loss1: 0.0055,  Loss3: 0.9987\n",
            "Epoch[1/1], Step [816/1000], Loss1: 0.0000,  Loss3: 1.0000\n",
            "Epoch[1/1], Step [817/1000], Loss1: 0.0000,  Loss3: 1.0000\n",
            "Epoch[1/1], Step [818/1000], Loss1: 0.0009,  Loss3: 0.9998\n",
            "Epoch[1/1], Step [819/1000], Loss1: 0.0000,  Loss3: 1.0000\n",
            "Epoch[1/1], Step [820/1000], Loss1: 0.1228,  Loss3: 0.9481\n",
            "Epoch[1/1], Step [821/1000], Loss1: 0.0000,  Loss3: 1.0000\n",
            "Epoch[1/1], Step [822/1000], Loss1: 0.0000,  Loss3: 1.0000\n",
            "Epoch[1/1], Step [823/1000], Loss1: 0.0292,  Loss3: 0.9909\n",
            "Epoch[1/1], Step [824/1000], Loss1: 0.0000,  Loss3: 1.0000\n",
            "Epoch[1/1], Step [825/1000], Loss1: 0.5295,  Loss3: 0.6546\n",
            "Epoch[1/1], Step [826/1000], Loss1: 0.0000,  Loss3: 1.0000\n",
            "Epoch[1/1], Step [827/1000], Loss1: 0.0000,  Loss3: 1.0000\n",
            "Epoch[1/1], Step [828/1000], Loss1: 0.0384,  Loss3: 0.9874\n",
            "Epoch[1/1], Step [829/1000], Loss1: 0.4116,  Loss3: 0.7539\n",
            "Epoch[1/1], Step [830/1000], Loss1: 0.0000,  Loss3: 1.0000\n",
            "Epoch[1/1], Step [831/1000], Loss1: 0.0000,  Loss3: 1.0000\n",
            "Epoch[1/1], Step [832/1000], Loss1: 0.0004,  Loss3: 0.9999\n",
            "Epoch[1/1], Step [833/1000], Loss1: 0.0007,  Loss3: 0.9999\n",
            "Epoch[1/1], Step [834/1000], Loss1: 0.6794,  Loss3: 0.5137\n",
            "Epoch[1/1], Step [835/1000], Loss1: 1.1948,  Loss3: 0.3633\n",
            "Epoch[1/1], Step [836/1000], Loss1: 0.0000,  Loss3: 1.0000\n",
            "Epoch[1/1], Step [837/1000], Loss1: 0.0000,  Loss3: 1.0000\n",
            "Epoch[1/1], Step [838/1000], Loss1: 0.4954,  Loss3: 0.6843\n",
            "Epoch[1/1], Step [839/1000], Loss1: 0.0000,  Loss3: 1.0000\n",
            "Epoch[1/1], Step [840/1000], Loss1: 0.0632,  Loss3: 0.9795\n",
            "Epoch[1/1], Step [841/1000], Loss1: 0.0000,  Loss3: 1.0000\n",
            "Epoch[1/1], Step [842/1000], Loss1: 0.0101,  Loss3: 0.9974\n",
            "Epoch[1/1], Step [843/1000], Loss1: 0.0000,  Loss3: 1.0000\n",
            "Epoch[1/1], Step [844/1000], Loss1: 0.0000,  Loss3: 1.0000\n",
            "Epoch[1/1], Step [845/1000], Loss1: 0.0000,  Loss3: 1.0000\n",
            "Epoch[1/1], Step [846/1000], Loss1: 0.0030,  Loss3: 0.9993\n",
            "Epoch[1/1], Step [847/1000], Loss1: 0.0226,  Loss3: 0.9932\n",
            "Epoch[1/1], Step [848/1000], Loss1: 0.0005,  Loss3: 0.9999\n",
            "Epoch[1/1], Step [849/1000], Loss1: 0.2638,  Loss3: 0.8630\n",
            "Epoch[1/1], Step [850/1000], Loss1: 0.7575,  Loss3: 0.5321\n",
            "Epoch[1/1], Step [851/1000], Loss1: 0.0104,  Loss3: 0.9973\n",
            "Epoch[1/1], Step [852/1000], Loss1: 0.0000,  Loss3: 1.0000\n",
            "Epoch[1/1], Step [853/1000], Loss1: 0.0000,  Loss3: 1.0000\n",
            "Epoch[1/1], Step [854/1000], Loss1: 0.0000,  Loss3: 1.0000\n",
            "Epoch[1/1], Step [855/1000], Loss1: 0.0000,  Loss3: 1.0000\n",
            "Epoch[1/1], Step [856/1000], Loss1: 0.0000,  Loss3: 1.0000\n",
            "Epoch[1/1], Step [857/1000], Loss1: 0.0000,  Loss3: 1.0000\n",
            "Epoch[1/1], Step [858/1000], Loss1: 0.0000,  Loss3: 1.0000\n",
            "Epoch[1/1], Step [859/1000], Loss1: 0.6161,  Loss3: 0.5750\n",
            "Epoch[1/1], Step [860/1000], Loss1: 0.0000,  Loss3: 1.0000\n",
            "Epoch[1/1], Step [861/1000], Loss1: 0.0038,  Loss3: 0.9991\n",
            "Epoch[1/1], Step [862/1000], Loss1: 0.0000,  Loss3: 1.0000\n",
            "Epoch[1/1], Step [863/1000], Loss1: 0.0000,  Loss3: 1.0000\n",
            "Epoch[1/1], Step [864/1000], Loss1: 0.0000,  Loss3: 1.0000\n",
            "Epoch[1/1], Step [865/1000], Loss1: 0.0000,  Loss3: 1.0000\n",
            "Epoch[1/1], Step [866/1000], Loss1: 0.0113,  Loss3: 0.9970\n",
            "Epoch[1/1], Step [867/1000], Loss1: 0.0000,  Loss3: 1.0000\n",
            "Epoch[1/1], Step [868/1000], Loss1: 0.1289,  Loss3: 0.9450\n",
            "Epoch[1/1], Step [869/1000], Loss1: 0.5603,  Loss3: 0.6268\n",
            "Epoch[1/1], Step [870/1000], Loss1: 0.0000,  Loss3: 1.0000\n",
            "Epoch[1/1], Step [871/1000], Loss1: 0.0000,  Loss3: 1.0000\n",
            "Epoch[1/1], Step [872/1000], Loss1: 0.0000,  Loss3: 1.0000\n",
            "Epoch[1/1], Step [873/1000], Loss1: 0.0000,  Loss3: 1.0000\n",
            "Epoch[1/1], Step [874/1000], Loss1: 0.0000,  Loss3: 1.0000\n",
            "Epoch[1/1], Step [875/1000], Loss1: 0.0320,  Loss3: 0.9899\n",
            "Epoch[1/1], Step [876/1000], Loss1: 0.0000,  Loss3: 1.0000\n",
            "Epoch[1/1], Step [877/1000], Loss1: 0.0000,  Loss3: 1.0000\n",
            "Epoch[1/1], Step [878/1000], Loss1: 0.0136,  Loss3: 0.9963\n",
            "Epoch[1/1], Step [879/1000], Loss1: 0.0744,  Loss3: 0.9731\n",
            "Epoch[1/1], Step [880/1000], Loss1: 0.0002,  Loss3: 1.0000\n",
            "Epoch[1/1], Step [881/1000], Loss1: 0.0000,  Loss3: 1.0000\n",
            "Epoch[1/1], Step [882/1000], Loss1: 0.0000,  Loss3: 1.0000\n",
            "Epoch[1/1], Step [883/1000], Loss1: 0.1288,  Loss3: 0.9450\n",
            "Epoch[1/1], Step [884/1000], Loss1: 0.6924,  Loss3: 0.5007\n",
            "Epoch[1/1], Step [885/1000], Loss1: 0.0000,  Loss3: 1.0000\n",
            "Epoch[1/1], Step [886/1000], Loss1: 0.0000,  Loss3: 1.0000\n",
            "Epoch[1/1], Step [887/1000], Loss1: 0.0000,  Loss3: 1.0000\n",
            "Epoch[1/1], Step [888/1000], Loss1: 0.0000,  Loss3: 1.0000\n",
            "Epoch[1/1], Step [889/1000], Loss1: 0.0000,  Loss3: 1.0000\n",
            "Epoch[1/1], Step [890/1000], Loss1: 0.0040,  Loss3: 0.9991\n",
            "Epoch[1/1], Step [891/1000], Loss1: 0.0000,  Loss3: 1.0000\n",
            "Epoch[1/1], Step [892/1000], Loss1: 0.6584,  Loss3: 0.5343\n",
            "Epoch[1/1], Step [893/1000], Loss1: 0.0000,  Loss3: 1.0000\n",
            "Epoch[1/1], Step [894/1000], Loss1: 0.0000,  Loss3: 1.0000\n",
            "Epoch[1/1], Step [895/1000], Loss1: 0.0000,  Loss3: 1.0000\n",
            "Epoch[1/1], Step [896/1000], Loss1: 0.0000,  Loss3: 1.0000\n",
            "Epoch[1/1], Step [897/1000], Loss1: 0.6970,  Loss3: 0.5156\n",
            "Epoch[1/1], Step [898/1000], Loss1: 0.0022,  Loss3: 0.9996\n",
            "Epoch[1/1], Step [899/1000], Loss1: 0.0000,  Loss3: 1.0000\n",
            "Epoch[1/1], Step [900/1000], Loss1: 0.0000,  Loss3: 1.0000\n",
            "Epoch[1/1], Step [901/1000], Loss1: 0.0000,  Loss3: 1.0000\n",
            "Epoch[1/1], Step [902/1000], Loss1: 0.0000,  Loss3: 1.0000\n",
            "Epoch[1/1], Step [903/1000], Loss1: 0.0001,  Loss3: 1.0000\n",
            "Epoch[1/1], Step [904/1000], Loss1: 0.0000,  Loss3: 1.0000\n",
            "Epoch[1/1], Step [905/1000], Loss1: 0.0503,  Loss3: 0.9826\n",
            "Epoch[1/1], Step [906/1000], Loss1: 0.0000,  Loss3: 1.0000\n",
            "Epoch[1/1], Step [907/1000], Loss1: 0.0000,  Loss3: 1.0000\n",
            "Epoch[1/1], Step [908/1000], Loss1: 1.2504,  Loss3: 0.3461\n",
            "Epoch[1/1], Step [909/1000], Loss1: 0.0000,  Loss3: 1.0000\n",
            "Epoch[1/1], Step [910/1000], Loss1: 0.1062,  Loss3: 0.9567\n",
            "Epoch[1/1], Step [911/1000], Loss1: 0.3094,  Loss3: 0.8313\n",
            "Epoch[1/1], Step [912/1000], Loss1: 0.0000,  Loss3: 1.0000\n",
            "Epoch[1/1], Step [913/1000], Loss1: 0.0000,  Loss3: 1.0000\n",
            "Epoch[1/1], Step [914/1000], Loss1: 0.0256,  Loss3: 0.9922\n",
            "Epoch[1/1], Step [915/1000], Loss1: 0.0000,  Loss3: 1.0000\n",
            "Epoch[1/1], Step [916/1000], Loss1: 0.0006,  Loss3: 0.9999\n",
            "Epoch[1/1], Step [917/1000], Loss1: 0.0000,  Loss3: 1.0000\n",
            "Epoch[1/1], Step [918/1000], Loss1: 0.0000,  Loss3: 1.0000\n",
            "Epoch[1/1], Step [919/1000], Loss1: 0.0000,  Loss3: 1.0000\n",
            "Epoch[1/1], Step [920/1000], Loss1: 0.0000,  Loss3: 1.0000\n",
            "Epoch[1/1], Step [921/1000], Loss1: 0.0000,  Loss3: 1.0000\n",
            "Epoch[1/1], Step [922/1000], Loss1: 0.0000,  Loss3: 1.0000\n",
            "Epoch[1/1], Step [923/1000], Loss1: 0.0000,  Loss3: 1.0000\n",
            "Epoch[1/1], Step [924/1000], Loss1: 0.0000,  Loss3: 1.0000\n",
            "Epoch[1/1], Step [925/1000], Loss1: 0.0001,  Loss3: 1.0000\n",
            "Epoch[1/1], Step [926/1000], Loss1: 0.0000,  Loss3: 1.0000\n",
            "Epoch[1/1], Step [927/1000], Loss1: 0.6827,  Loss3: 0.5104\n",
            "Epoch[1/1], Step [928/1000], Loss1: 0.0015,  Loss3: 0.9997\n",
            "Epoch[1/1], Step [929/1000], Loss1: 0.0000,  Loss3: 1.0000\n",
            "Epoch[1/1], Step [930/1000], Loss1: 0.0000,  Loss3: 1.0000\n",
            "Epoch[1/1], Step [931/1000], Loss1: 0.0508,  Loss3: 0.9843\n",
            "Epoch[1/1], Step [932/1000], Loss1: 0.0044,  Loss3: 0.9990\n",
            "Epoch[1/1], Step [933/1000], Loss1: 0.0000,  Loss3: 1.0000\n",
            "Epoch[1/1], Step [934/1000], Loss1: 0.2216,  Loss3: 0.8982\n",
            "Epoch[1/1], Step [935/1000], Loss1: 0.0000,  Loss3: 1.0000\n",
            "Epoch[1/1], Step [936/1000], Loss1: 0.0000,  Loss3: 1.0000\n",
            "Epoch[1/1], Step [937/1000], Loss1: 0.0012,  Loss3: 0.9998\n",
            "Epoch[1/1], Step [938/1000], Loss1: 0.0000,  Loss3: 1.0000\n",
            "Epoch[1/1], Step [939/1000], Loss1: 0.0000,  Loss3: 1.0000\n",
            "Epoch[1/1], Step [940/1000], Loss1: 0.0000,  Loss3: 1.0000\n",
            "Epoch[1/1], Step [941/1000], Loss1: 0.0000,  Loss3: 1.0000\n",
            "Epoch[1/1], Step [942/1000], Loss1: 0.0000,  Loss3: 1.0000\n",
            "Epoch[1/1], Step [943/1000], Loss1: 0.0000,  Loss3: 1.0000\n",
            "Epoch[1/1], Step [944/1000], Loss1: 0.0000,  Loss3: 1.0000\n",
            "Epoch[1/1], Step [945/1000], Loss1: 0.0000,  Loss3: 1.0000\n",
            "Epoch[1/1], Step [946/1000], Loss1: 0.0000,  Loss3: 1.0000\n",
            "Epoch[1/1], Step [947/1000], Loss1: 0.0000,  Loss3: 1.0000\n",
            "Epoch[1/1], Step [948/1000], Loss1: 0.0000,  Loss3: 1.0000\n",
            "Epoch[1/1], Step [949/1000], Loss1: 0.0001,  Loss3: 1.0000\n",
            "Epoch[1/1], Step [950/1000], Loss1: 0.0000,  Loss3: 1.0000\n",
            "Epoch[1/1], Step [951/1000], Loss1: 0.2002,  Loss3: 0.9039\n",
            "Epoch[1/1], Step [952/1000], Loss1: 0.0000,  Loss3: 1.0000\n",
            "Epoch[1/1], Step [953/1000], Loss1: 0.0044,  Loss3: 0.9990\n",
            "Epoch[1/1], Step [954/1000], Loss1: 0.0021,  Loss3: 0.9996\n",
            "Epoch[1/1], Step [955/1000], Loss1: 0.0306,  Loss3: 0.9917\n",
            "Epoch[1/1], Step [956/1000], Loss1: 0.0000,  Loss3: 1.0000\n",
            "Epoch[1/1], Step [957/1000], Loss1: 0.0590,  Loss3: 0.9789\n",
            "Epoch[1/1], Step [958/1000], Loss1: 0.4001,  Loss3: 0.7631\n",
            "Epoch[1/1], Step [959/1000], Loss1: 0.0000,  Loss3: 1.0000\n",
            "Epoch[1/1], Step [960/1000], Loss1: 0.1761,  Loss3: 0.9184\n",
            "Epoch[1/1], Step [961/1000], Loss1: 0.0000,  Loss3: 1.0000\n",
            "Epoch[1/1], Step [962/1000], Loss1: 0.0000,  Loss3: 1.0000\n",
            "Epoch[1/1], Step [963/1000], Loss1: 0.0823,  Loss3: 0.9684\n",
            "Epoch[1/1], Step [964/1000], Loss1: 0.0000,  Loss3: 1.0000\n",
            "Epoch[1/1], Step [965/1000], Loss1: 0.0057,  Loss3: 0.9986\n",
            "Epoch[1/1], Step [966/1000], Loss1: 0.0000,  Loss3: 1.0000\n",
            "Epoch[1/1], Step [967/1000], Loss1: 0.0000,  Loss3: 1.0000\n",
            "Epoch[1/1], Step [968/1000], Loss1: 0.0175,  Loss3: 0.9950\n",
            "Epoch[1/1], Step [969/1000], Loss1: 0.0000,  Loss3: 1.0000\n",
            "Epoch[1/1], Step [970/1000], Loss1: 0.5932,  Loss3: 0.6216\n",
            "Epoch[1/1], Step [971/1000], Loss1: 0.1063,  Loss3: 0.9579\n",
            "Epoch[1/1], Step [972/1000], Loss1: 0.5723,  Loss3: 0.6159\n",
            "Epoch[1/1], Step [973/1000], Loss1: 0.0000,  Loss3: 1.0000\n",
            "Epoch[1/1], Step [974/1000], Loss1: 0.0000,  Loss3: 1.0000\n",
            "Epoch[1/1], Step [975/1000], Loss1: 0.0000,  Loss3: 1.0000\n",
            "Epoch[1/1], Step [976/1000], Loss1: 0.7713,  Loss3: 0.5079\n",
            "Epoch[1/1], Step [977/1000], Loss1: 0.0035,  Loss3: 0.9992\n",
            "Epoch[1/1], Step [978/1000], Loss1: 0.0000,  Loss3: 1.0000\n",
            "Epoch[1/1], Step [979/1000], Loss1: 0.0000,  Loss3: 1.0000\n",
            "Epoch[1/1], Step [980/1000], Loss1: 0.1352,  Loss3: 0.9431\n",
            "Epoch[1/1], Step [981/1000], Loss1: 0.0437,  Loss3: 0.9853\n",
            "Epoch[1/1], Step [982/1000], Loss1: 0.0000,  Loss3: 1.0000\n",
            "Epoch[1/1], Step [983/1000], Loss1: 0.0003,  Loss3: 0.9999\n",
            "Epoch[1/1], Step [984/1000], Loss1: 0.1992,  Loss3: 0.9046\n",
            "Epoch[1/1], Step [985/1000], Loss1: 0.0000,  Loss3: 1.0000\n",
            "Epoch[1/1], Step [986/1000], Loss1: 0.0000,  Loss3: 1.0000\n",
            "Epoch[1/1], Step [987/1000], Loss1: 0.0000,  Loss3: 1.0000\n",
            "Epoch[1/1], Step [988/1000], Loss1: 0.0000,  Loss3: 1.0000\n",
            "Epoch[1/1], Step [989/1000], Loss1: 0.0003,  Loss3: 0.9999\n",
            "Epoch[1/1], Step [990/1000], Loss1: 0.5369,  Loss3: 0.6479\n",
            "Epoch[1/1], Step [991/1000], Loss1: 0.0000,  Loss3: 1.0000\n",
            "Epoch[1/1], Step [992/1000], Loss1: 0.4328,  Loss3: 0.7379\n",
            "Epoch[1/1], Step [993/1000], Loss1: 0.6635,  Loss3: 0.5313\n",
            "Epoch[1/1], Step [994/1000], Loss1: 0.0000,  Loss3: 1.0000\n",
            "Epoch[1/1], Step [995/1000], Loss1: 0.0000,  Loss3: 1.0000\n",
            "Epoch[1/1], Step [996/1000], Loss1: 0.0000,  Loss3: 1.0000\n",
            "Epoch[1/1], Step [997/1000], Loss1: 0.0000,  Loss3: 1.0000\n",
            "Epoch[1/1], Step [998/1000], Loss1: 0.0000,  Loss3: 1.0000\n",
            "Epoch[1/1], Step [999/1000], Loss1: 0.0000,  Loss3: 1.0000\n",
            "Epoch[1/1], Step [1000/1000], Loss1: 0.0000,  Loss3: 1.0000\n"
          ]
        }
      ],
      "source": [
        "model=WordImportance().to(device)\n",
        "summary_generator = SummaryGenerator().to(device)\n",
        "loss1_t,loss3_t,loss_v = train_G(model,small_train_dataset,small_valid_dataset, num_epochs=1,verbose=True)"
      ]
    },
    {
      "cell_type": "code",
      "execution_count": 47,
      "metadata": {
        "id": "cXc6xYH13Ft7"
      },
      "outputs": [],
      "source": [
        "path = F\"/content/drive/MyDrive/wordimportance5.pt\" \n",
        "torch.save(model.state_dict(), path)  "
      ]
    },
    {
      "cell_type": "code",
      "source": [
        "%cp /content/wordimportance4.pt /content/drive/MyDrive"
      ],
      "metadata": {
        "id": "i6P3iMZjKy0-",
        "colab": {
          "base_uri": "https://localhost:8080/"
        },
        "outputId": "e24721fe-421c-4fd1-b58d-d16e36c6e2a6"
      },
      "execution_count": 48,
      "outputs": [
        {
          "output_type": "stream",
          "name": "stdout",
          "text": [
            "cp: cannot stat '/content/wordimportance4.pt': No such file or directory\n"
          ]
        }
      ]
    },
    {
      "cell_type": "code",
      "source": [
        "from google.colab import files\n",
        "#files.download('wordimportance4.pt') "
      ],
      "metadata": {
        "id": "BKp4lurVDVu7"
      },
      "execution_count": 49,
      "outputs": []
    },
    {
      "cell_type": "code",
      "execution_count": 50,
      "metadata": {
        "id": "KpBAbC_vGI3Q"
      },
      "outputs": [],
      "source": [
        "import torchplot as tp"
      ]
    },
    {
      "cell_type": "code",
      "execution_count": 51,
      "metadata": {
        "id": "ScEgeo_NHfaw",
        "colab": {
          "base_uri": "https://localhost:8080/",
          "height": 296
        },
        "outputId": "3d7264ad-9ecf-4077-873a-a2543c5be459"
      },
      "outputs": [
        {
          "output_type": "display_data",
          "data": {
            "text/plain": [
              "<Figure size 432x288 with 1 Axes>"
            ],
            "image/png": "[encoded data removed]"
          },
          "metadata": {
            "needs_background": "light"
          }
        },
        {
          "output_type": "display_data",
          "data": {
            "text/plain": [
              "<Figure size 432x288 with 0 Axes>"
            ]
          },
          "metadata": {}
        }
      ],
      "source": [
        "tp.plot(loss1_t)\n",
        "tp.xlabel('steps')\n",
        "tp.ylabel('Loss')\n",
        "tp.show()\n",
        "tp.savefig('/content/drive/MyDrive/entropy.png')\n"
      ]
    },
    {
      "cell_type": "code",
      "source": [
        "f = tp.figure()\n",
        "f.set_figwidth(10)\n",
        "tp.plot(torch.Tensor(loss_v),label='validation Loss', color='darkorange')\n",
        "tp.plot(torch.Tensor(loss1_t)+torch.Tensor(loss3_t),label='Training Loss')\n",
        "#tp.plot(torch.Tensor(loss_v),label='Validation Loss', color='darkorange')\n",
        "tp.xlabel('steps')\n",
        "tp.ylabel('Loss')\n",
        "tp.legend()\n",
        "tp.show()\n",
        "tp.savefig('/content/drive/MyDrive/loss.png')"
      ],
      "metadata": {
        "id": "CjurKNHWhKXy",
        "colab": {
          "base_uri": "https://localhost:8080/",
          "height": 296
        },
        "outputId": "cc8ad536-0adf-4cdb-a31d-6c9eee1bc86c"
      },
      "execution_count": 52,
      "outputs": [
        {
          "output_type": "display_data",
          "data": {
            "text/plain": [
              "<Figure size 720x288 with 1 Axes>"
            ],
            "image/png": "[encoded data removed]"
          },
          "metadata": {
            "needs_background": "light"
          }
        },
        {
          "output_type": "display_data",
          "data": {
            "text/plain": [
              "<Figure size 432x288 with 0 Axes>"
            ]
          },
          "metadata": {}
        }
      ]
    },
    {
      "cell_type": "code",
      "execution_count": 53,
      "metadata": {
        "id": "jmiwf3S3JEER",
        "colab": {
          "base_uri": "https://localhost:8080/"
        },
        "outputId": "477f6a2e-59bd-46fb-c825-e7ece5be7947"
      },
      "outputs": [
        {
          "output_type": "stream",
          "name": "stderr",
          "text": [
            "/usr/local/lib/python3.7/dist-packages/ipykernel_launcher.py:30: UserWarning: Implicit dimension choice for softmax has been deprecated. Change the call to include dim=X as an argument.\n"
          ]
        }
      ],
      "source": [
        "wordscore= model(x = encoded_input)"
      ]
    },
    {
      "cell_type": "code",
      "execution_count": 54,
      "metadata": {
        "id": "a1IrDZGPditG"
      },
      "outputs": [],
      "source": [
        "#model = WordImportance()\n",
        "#model.load_state_dict(torch.load('/content/drive/MyDrive/wordimportance4.pt'))"
      ]
    },
    {
      "cell_type": "code",
      "execution_count": 55,
      "metadata": {
        "id": "FX1jkcJv8CeB",
        "colab": {
          "base_uri": "https://localhost:8080/"
        },
        "outputId": "79507045-356b-4eae-bd9e-4a2a5a168a9a"
      },
      "outputs": [
        {
          "output_type": "stream",
          "name": "stderr",
          "text": [
            "/usr/local/lib/python3.7/dist-packages/ipykernel_launcher.py:30: UserWarning: Implicit dimension choice for softmax has been deprecated. Change the call to include dim=X as an argument.\n"
          ]
        },
        {
          "output_type": "stream",
          "name": "stdout",
          "text": [
            "tensor(0.0264, device='cuda:0', grad_fn=<NegBackward0>)\n",
            "tensor(2.5417e-15, device='cuda:0', grad_fn=<NegBackward0>)\n",
            "tensor(5.9605e-08, device='cuda:0', grad_fn=<NegBackward0>)\n",
            "tensor(1.8678e-07, device='cuda:0', grad_fn=<NegBackward0>)\n",
            "tensor(1.4204e-14, device='cuda:0', grad_fn=<NegBackward0>)\n",
            "tensor(1.1921e-07, device='cuda:0', grad_fn=<NegBackward0>)\n",
            "tensor(5.9605e-08, device='cuda:0', grad_fn=<NegBackward0>)\n",
            "tensor(0.0010, device='cuda:0', grad_fn=<NegBackward0>)\n",
            "tensor(0.0003, device='cuda:0', grad_fn=<NegBackward0>)\n",
            "tensor(4.4586e-15, device='cuda:0', grad_fn=<NegBackward0>)\n"
          ]
        }
      ],
      "source": [
        "result_for_rouge = []\n",
        "for i, x in enumerate(small_test_dataset):\n",
        "  # Forward pass            \n",
        "  article_text = Btokenizer(x['article'], padding=\"max_length\", truncation=True, return_tensors='pt').to(device)\n",
        "  article_attention = model(x = article_text)\n",
        "  text_to_extract = Btokenizer.decode(article_text['input_ids'][0].tolist())\n",
        "  if i<10:\n",
        "    loss = -torch.mul(article_attention,article_attention.log()).sum()\n",
        "    print(loss)\n",
        "\n",
        "  summary, sentence_position2, sentence_H,sentence_P = summary_generator2(text_to_extract, article_attention,3)\n",
        "  result_for_rouge.append({'article':x['article'],'golden summary':x['highlights'],'summary':summary,'id':x['id'],'sentence_position':sentence_position2})"
      ]
    },
    {
      "cell_type": "code",
      "execution_count": 56,
      "metadata": {
        "id": "JoyPGnrp7yHC"
      },
      "outputs": [],
      "source": [
        "rouge1_score = []\n",
        "rouge2_score = []\n",
        "rougeL_score = []\n",
        "for result in result_for_rouge:\n",
        "  rouge_score = rouge.score(result['golden summary'],result['summary'])\n",
        "  rouge1_score.append(rouge_score['rouge1'][-1])\n",
        "  rouge2_score.append(rouge_score['rouge2'][-1])\n",
        "  rougeL_score.append(rouge_score['rougeL'][-1])\n",
        "\n",
        "rouge1_score = torch.Tensor(rouge1_score)\n",
        "rouge2_score = torch.Tensor(rouge2_score)\n",
        "rougeL_score = torch.Tensor(rougeL_score)"
      ]
    },
    {
      "cell_type": "code",
      "execution_count": 57,
      "metadata": {
        "id": "AxPAILm87yRk",
        "colab": {
          "base_uri": "https://localhost:8080/"
        },
        "outputId": "d088633b-5956-40b3-a490-19fa4d5e1094"
      },
      "outputs": [
        {
          "output_type": "stream",
          "name": "stdout",
          "text": [
            "tensor(0.3161)\n",
            "tensor(0.1175)\n",
            "tensor(0.1989)\n"
          ]
        }
      ],
      "source": [
        "print(rouge1_score.mean())\n",
        "print(rouge2_score.mean())\n",
        "print(rougeL_score.mean())"
      ]
    },
    {
      "cell_type": "code",
      "execution_count": 58,
      "metadata": {
        "id": "FEce6b_Qfs4i",
        "colab": {
          "base_uri": "https://localhost:8080/"
        },
        "outputId": "b9f9b403-4ea7-4079-a1cc-0c2f8d14462a"
      },
      "outputs": [
        {
          "output_type": "execute_result",
          "data": {
            "text/plain": [
              "{'article': \"This dog certainly is his master's best friend after saving him from a cold and muddy grave. The black pooch was filmed in action as he took a rescue rope out to his owner at the Clarence J. Brown Dam and Reservoir in Springfield, Ohio, on Saturday afternoon. Footage shows the unidentified man then being hauled to shore by firefighters after spending almost two hours in waters\\xa0hovering\\xa0around zero degrees\\xa0Celsius. He apparently got stuck waist-deep in mud while recovering some duck hunting gear. Luckily, he had a cell phone on hand to call 911. However, first responders were unable to get a boat out to him because\\xa0the river was too shallow. They also didn't want to send anyone into the pond in fear\\xa0that\\xa0they would get stuck too. That's when they had the idea to send the dog in with a rescue rope. Go fetch: This dog certainly is his master's best friend after saving him from a cold and muddy grave . The black pooch was filmed in action as he took a rescue rope out to his owner at the Clarence J. Brown Dam and Reservoir in Springfield, Ohio, on Saturday afternoon . All hands on deck: Footage shows the unidentified man then being hauled to shore by firefighters after spending almost two hours in waters hovering around zero degrees Celsius . Wrong move: He apparently got stuck waist-deep in mud while recovering some duck hunting gear . According to the Springfield News-Sun, the man remained in good spirits throughout his recovery and didn't suffer any injuries. Assistant Fire Chief Rick Hughes said that if the ordeal had gone on much longer it could have proved fatal. 'It’s a good thing he had his cellphone considering he was in the mud and water to about his chest and it was about 33 degrees [Fahrenheit],' he added.\",\n",
              " 'golden summary': 'The black pooch was filmed in action as he took a rescue rope out to his owner at the Clarence J. Brown Dam and Reservoir in Ohio on Saturday .\\nFootage shows the unidentified man then being hauled to shore by firefighters after spending almost two hours in cold waters .',\n",
              " 'id': '5641410eed47b14b68bc0d038cefac49eac0e5fb',\n",
              " 'sentence_position': (1, 2, 3),\n",
              " 'summary': 'the black pooch was filmed in action as he took a rescue rope out to his owner at the clarence j. brown dam and reservoir in springfield, ohio, on saturday afternoon. footage shows the unidentified man then being hauled to shore by firefighters after spending almost two hours in waters hovering around zero degrees celsius.'}"
            ]
          },
          "metadata": {},
          "execution_count": 58
        }
      ],
      "source": [
        "best_example = result_for_rouge[torch.where(rouge1_score==rouge1_score.max())[0].tolist()[0]]\n",
        "best_example"
      ]
    },
    {
      "cell_type": "code",
      "execution_count": 59,
      "metadata": {
        "id": "GWsTlfJVfwLH",
        "colab": {
          "base_uri": "https://localhost:8080/"
        },
        "outputId": "706940d7-ef0b-46b9-be99-0b3afd9d5d7a"
      },
      "outputs": [
        {
          "output_type": "stream",
          "name": "stderr",
          "text": [
            "/usr/local/lib/python3.7/dist-packages/ipykernel_launcher.py:30: UserWarning: Implicit dimension choice for softmax has been deprecated. Change the call to include dim=X as an argument.\n"
          ]
        }
      ],
      "source": [
        "article_text = Btokenizer(best_example['article'], padding=\"max_length\", truncation=True, return_tensors='pt').to(device)\n",
        "article_attention = model(x = article_text)\n",
        "text_to_extract = Btokenizer.decode(article_text['input_ids'][0].tolist())\n",
        "\n",
        "summary, sentence_position2,sentence_H,sentence_P = summary_generator2(text_to_extract,article_attention,3)"
      ]
    },
    {
      "cell_type": "code",
      "source": [
        "split_text = summary_generator2.text_split(text_to_extract)\n",
        "truncation_len = summary_generator2.get_truncation_length(split_text)"
      ],
      "metadata": {
        "id": "RL4p4n8rSXg9"
      },
      "execution_count": 60,
      "outputs": []
    },
    {
      "cell_type": "code",
      "source": [
        "truncation_len = torch.Tensor(truncation_len)\n",
        "truncation_len[range(sentence_position2[0])].sum()\n",
        "select_word=[]\n",
        "for i in sentence_position2:\n",
        "  select_word+=list(range(int(truncation_len[range(i)].sum().item()),\n",
        "                        int(truncation_len[range(i+1)].sum().item())))"
      ],
      "metadata": {
        "id": "iCUvMUgUUFjh"
      },
      "execution_count": 61,
      "outputs": []
    },
    {
      "cell_type": "code",
      "source": [
        "color = []\n",
        "for i in range(512):\n",
        "  if i in select_word:\n",
        "    color.append(\"darkorange\")\n",
        "  else:\n",
        "    color.append(\"Wheat\")"
      ],
      "metadata": {
        "id": "UBaotbu4WY2_"
      },
      "execution_count": 62,
      "outputs": []
    },
    {
      "cell_type": "code",
      "source": [
        "plt.rcParams[\"font.family\"] = \"Times New Roman\""
      ],
      "metadata": {
        "id": "gwZrbyiIBGcp"
      },
      "execution_count": 63,
      "outputs": []
    },
    {
      "cell_type": "code",
      "source": [
        "#x=((-article_attention.log().reshape(512))-(-article_attention.log().reshape(512)).mean())/(-article_attention.log().reshape(512)).std()\n",
        "x_mean = -torch.mul(article_attention,article_attention.log()).reshape(1,512).sum()\n",
        "x_std = torch.sqrt(torch.mul(article_attention,(-article_attention.log())**2).reshape(1,512).sum()-x_mean**2)\n",
        "x=((-article_attention.log()-x_mean)/x_std).reshape(512)\n",
        "x = x.tolist()\n",
        "y=list(range(512))\n",
        "\n",
        "plt.bar(y,x,color=color)\n",
        "plt.xlabel('Word position')\n",
        "plt.ylabel('Word information')\n",
        "\n",
        "color_chosen = {'Our selection':'darkorange','others':'wheat'}\n",
        "labels = list(color_chosen.keys())\n",
        "handles = [plt.Rectangle((1,1),0,0, color=color_chosen[label]) for label in labels]\n",
        "plt.legend(handles, labels)\n",
        "plt.show()\n",
        "plt.savefig('/content/drive/MyDrive/truncation_after.png')\n"
      ],
      "metadata": {
        "id": "CE-46o5yNW1g",
        "colab": {
          "base_uri": "https://localhost:8080/",
          "height": 313
        },
        "outputId": "d62604ef-1c31-4189-cb51-d445c18a1ec8"
      },
      "execution_count": 64,
      "outputs": [
        {
          "output_type": "stream",
          "name": "stderr",
          "text": [
            "findfont: Font family ['Times New Roman'] not found. Falling back to DejaVu Sans.\n"
          ]
        },
        {
          "output_type": "display_data",
          "data": {
            "text/plain": [
              "<Figure size 432x288 with 1 Axes>"
            ],
            "image/png": "[encoded data removed]"
          },
          "metadata": {
            "needs_background": "light"
          }
        },
        {
          "output_type": "display_data",
          "data": {
            "text/plain": [
              "<Figure size 432x288 with 0 Axes>"
            ]
          },
          "metadata": {}
        }
      ]
    },
    {
      "cell_type": "code",
      "source": [
        "sentence_position = []\n",
        "for x in result_for_rouge:\n",
        "  sentence_position.append(x['sentence_position'])\n",
        "\n",
        "sentence_portion = []\n",
        "for comb in sentence_position:\n",
        "  sentence_portion+=list(comb)\n",
        "\n",
        "r1 = 27\n",
        "appear_position = list(range(r1+1))\n",
        "sentence_propotion2 = []\n",
        "for i in appear_position:\n",
        "  sentence_propotion2.append(sentence_portion.count(i)/len(small_test_dataset))"
      ],
      "metadata": {
        "id": "HB6xSd0lD4Gb"
      },
      "execution_count": 65,
      "outputs": []
    },
    {
      "cell_type": "code",
      "source": [
        "plt.bar(list(range(1,r1+2)),sentence_propotion2)\n",
        "plt.xlabel('Sentence position (in source document)')\n",
        "plt.ylabel('Proportion of selected sentences')\n",
        "plt.xticks(list(range(1,r1+2)),rotation = -30)\n",
        "plt.show()\n",
        "plt.savefig('/content/drive/MyDrive/sentence_position1.png')\n"
      ],
      "metadata": {
        "id": "5yCJcY10s6x1",
        "colab": {
          "base_uri": "https://localhost:8080/",
          "height": 301
        },
        "outputId": "65cd32b3-0a7b-41a3-89a8-e3ac8e13dbba"
      },
      "execution_count": 66,
      "outputs": [
        {
          "output_type": "display_data",
          "data": {
            "text/plain": [
              "<Figure size 432x288 with 1 Axes>"
            ],
            "image/png": "[encoded data removed]"
          },
          "metadata": {
            "needs_background": "light"
          }
        },
        {
          "output_type": "display_data",
          "data": {
            "text/plain": [
              "<Figure size 432x288 with 0 Axes>"
            ]
          },
          "metadata": {}
        }
      ]
    },
    {
      "cell_type": "code",
      "execution_count": 67,
      "metadata": {
        "id": "ozYBbzh4dyHu",
        "colab": {
          "base_uri": "https://localhost:8080/"
        },
        "outputId": "2c89cc70-e7e8-4208-e021-2cc6f620c5ca"
      },
      "outputs": [
        {
          "output_type": "stream",
          "name": "stderr",
          "text": [
            "/usr/local/lib/python3.7/dist-packages/ipykernel_launcher.py:30: UserWarning: Implicit dimension choice for softmax has been deprecated. Change the call to include dim=X as an argument.\n"
          ]
        },
        {
          "output_type": "stream",
          "name": "stdout",
          "text": [
            "tensor(0.0022, device='cuda:0', grad_fn=<NegBackward0>)\n",
            "tensor(0.0127, device='cuda:0', grad_fn=<NegBackward0>)\n",
            "tensor(0.0003, device='cuda:0', grad_fn=<NegBackward0>)\n",
            "tensor(-1.1921e-07, device='cuda:0', grad_fn=<NegBackward0>)\n",
            "tensor(0.1158, device='cuda:0', grad_fn=<NegBackward0>)\n",
            "tensor(0.0010, device='cuda:0', grad_fn=<NegBackward0>)\n",
            "tensor(0.6251, device='cuda:0', grad_fn=<NegBackward0>)\n",
            "tensor(1.1921e-07, device='cuda:0', grad_fn=<NegBackward0>)\n",
            "tensor(4.8210e-07, device='cuda:0', grad_fn=<NegBackward0>)\n",
            "tensor(0.0131, device='cuda:0', grad_fn=<NegBackward0>)\n"
          ]
        }
      ],
      "source": [
        "result_for_rouge = []\n",
        "summary_generator = SummaryGenerator().to(device)\n",
        "for i, x in enumerate(small_test_dataset):\n",
        "  # Forward pass            \n",
        "  article_text = Btokenizer(x['article'], padding=\"max_length\", truncation=True, return_tensors='pt').to(device)\n",
        "  article_attention = model(x = article_text)\n",
        "  text_to_extract = Btokenizer.decode(article_text['input_ids'][0].tolist())\n",
        "  if i<10:\n",
        "    loss = -torch.mul(article_attention,article_attention.log()).sum()\n",
        "    print(loss)\n",
        "\n",
        "  summary, sentence_position,sentence_score = summary_generator(text_to_extract,article_attention,3)\n",
        "  result_for_rouge.append({'article':x['article'],'golden summary':x['highlights'],'summary':summary,'id':x['id'],'sentence_position':sentence_position})\n"
      ]
    },
    {
      "cell_type": "code",
      "execution_count": 68,
      "metadata": {
        "id": "jjJQJhzdd2LV",
        "colab": {
          "base_uri": "https://localhost:8080/"
        },
        "outputId": "ca0dda5f-fb44-4c20-bc20-b333678e1f69"
      },
      "outputs": [
        {
          "output_type": "stream",
          "name": "stdout",
          "text": [
            "tensor(0.2820)\n",
            "tensor(0.0937)\n",
            "tensor(0.1717)\n"
          ]
        }
      ],
      "source": [
        "rouge1_score = []\n",
        "rouge2_score = []\n",
        "rougeL_score = []\n",
        "for result in result_for_rouge:\n",
        "  rouge_score = rouge.score(result['golden summary'],result['summary'])\n",
        "  rouge1_score.append(rouge_score['rouge1'][-1])\n",
        "  rouge2_score.append(rouge_score['rouge2'][-1])\n",
        "  rougeL_score.append(rouge_score['rougeL'][-1])\n",
        "\n",
        "rouge1_score = torch.Tensor(rouge1_score)\n",
        "rouge2_score = torch.Tensor(rouge2_score)\n",
        "rougeL_score = torch.Tensor(rougeL_score)\n",
        "print(rouge1_score.mean())\n",
        "print(rouge2_score.mean())\n",
        "print(rougeL_score.mean())"
      ]
    },
    {
      "cell_type": "code",
      "source": [
        "best_example = result_for_rouge[torch.where(rouge1_score==rouge1_score.max())[0].tolist()[0]]\n",
        "best_example"
      ],
      "metadata": {
        "id": "ZvViXfB-LJOA",
        "colab": {
          "base_uri": "https://localhost:8080/"
        },
        "outputId": "b3242232-bdea-43fd-d7b2-79be37a5cf3a"
      },
      "execution_count": 69,
      "outputs": [
        {
          "output_type": "execute_result",
          "data": {
            "text/plain": [
              "{'article': \"Priscilla Presley will serve as a witness at the first wedding to be held at an all-new chapel of love in Las Vegas. The 69-year-old collaborated with NBC's\\xa0Today show to launch a contest for one Elvis-obsessed couple to win the 'ultimate wedding'. The winning duo - announced next Monday - will tie the knot at Elvis Presley's Graceland Wedding Chapel inside the Westgate Hotel on Thursday, April 23. Novel idea: Priscilla Presley will serve as a witness at the first wedding to be held at an all new chapel of love in Las Vegas . Westgate, formerly the Las Vegas Hilton, is where Elvis performed more than 830 sold-out shows. Along with the singer's former wife in the audience, the winning couple will  win a free wedding reception and hotel suite for two nights. To top it off, airfares and concert tickets to the Elvis Experience theater show will also be thrown in. While Priscilla agreed to make an appearance, the woman who wed Elvis in 1967 made one thing clear before unveiling the latest wedding chapel to bear his name: No impersonators. 'This is all first-class,' she told the Associated Press recently. 'This is not a joke. The wedding chapel is not a joke.' The actress and business magnate has been involved in the look and feel of the chapel that officials say is part of the first permanent Graceland exhibit of the singer's artifacts outside his iconic Memphis, Tennessee, home. Couples wanting to be the first  to  wed at the Elvis Presley's Graceland Wedding Chapel must submit a video or photos along with an explanation detailing why they deserve the prize. Chapel of love: The winning duo - announced next Monday - will get married in the brand new Elvis Presley's Graceland Wedding Chapel (artist's rendering above) at the Westgate Hotel on Thursday, April 23 . Flashback: In this May 1, 1967, file photo, singer Elvis Presley, 32, and his bride, 21, the former Priscilla Beaulieu, appear at the Aladdin Hotel in Las Vegas, after their wedding .\",\n",
              " 'golden summary': \"The 69-year-old collaborated with NBC's Today show to launch a contest for an Elvis-obsessed couple to win the 'ultimate wedding'\\nThe winning duo will get married in the brand new Elvis Presley's Graceland Wedding Chapel at the Westgate Hotel on Thursday, April 23.\\nWhile she agreed to make an appearance, the woman who wed Elvis in 1967 made one thing clear before unveiling the latest wedding chapel to bear his name: No impersonators .\",\n",
              " 'id': '9beaaf73e4517d5bf1bc284f386485d571da96cf',\n",
              " 'sentence_position': [10, 1, 7],\n",
              " 'summary': \"the 69 - year - old collaborated with nbc's today show to launch a contest for one elvis - obsessed couple to win the'ultimate wedding '. while priscilla agreed to make an appearance, the woman who wed elvis in 1967 made one thing clear before unveiling the latest wedding chapel to bear his name : no impersonators.'this is all first - class,'she told the associated press recently.'this is not a joke. chapel of love : the winning duo - announced next monday - will get married in the brand new elvis presley's graceland wedding chapel ( artist's rendering above ) at the westgate hotel on thursday, april 23.\"}"
            ]
          },
          "metadata": {},
          "execution_count": 69
        }
      ]
    },
    {
      "cell_type": "code",
      "source": [
        "\n",
        "article_text = Btokenizer(best_example['article'], padding=\"max_length\", truncation=True, return_tensors='pt').to(device)\n",
        "article_attention = model(x = article_text)\n",
        "text_to_extract = Btokenizer.decode(article_text['input_ids'][0].tolist())\n",
        "\n",
        "summary, sentence_position2,sentence_H,sentence_P = summary_generator2(text_to_extract,article_attention,3)\n",
        "split_text = summary_generator2.text_split(text_to_extract)\n",
        "truncation_len = summary_generator2.get_truncation_length(split_text)\n",
        "\n",
        "truncation_len = torch.Tensor(truncation_len)\n",
        "truncation_len[range(sentence_position2[0])].sum()\n",
        "select_word=[]\n",
        "for i in sentence_position2:\n",
        "  select_word+=list(range(int(truncation_len[range(i)].sum().item()),\n",
        "                        int(truncation_len[range(i+1)].sum().item())))\n",
        "  \n",
        "color = []\n",
        "for i in range(512):\n",
        "  if i in select_word:\n",
        "    color.append(\"darkorange\")\n",
        "  else:\n",
        "    color.append(\"Wheat\")\n",
        "\n",
        "x_mean = -torch.mul(article_attention,article_attention.log()).reshape(1,512).sum()\n",
        "x_std = torch.sqrt(torch.mul(article_attention,(-article_attention.log())**2).reshape(1,512).sum()-x_mean**2)\n",
        "x=((-article_attention.log()-x_mean)/x_std).reshape(512)\n",
        "x = x.tolist()\n",
        "y=list(range(512))\n",
        "\n",
        "plt.bar(y,x,color=color)\n",
        "plt.xlabel('Word position')\n",
        "plt.ylabel('Word information')\n",
        "\n",
        "color_chosen = {'Our selection':'darkorange','others':'wheat'}\n",
        "labels = list(color_chosen.keys())\n",
        "handles = [plt.Rectangle((1,1),0,0, color=color_chosen[label]) for label in labels]\n",
        "plt.legend(handles, labels)\n",
        "plt.show()\n",
        "plt.savefig('/content/drive/MyDrive/truncation_after.png')\n"
      ],
      "metadata": {
        "id": "zpFux9qF_Y1t",
        "colab": {
          "base_uri": "https://localhost:8080/",
          "height": 333
        },
        "outputId": "0bf64eb7-6a11-4fae-9275-61b1c0d08e31"
      },
      "execution_count": 70,
      "outputs": [
        {
          "output_type": "stream",
          "name": "stderr",
          "text": [
            "/usr/local/lib/python3.7/dist-packages/ipykernel_launcher.py:30: UserWarning: Implicit dimension choice for softmax has been deprecated. Change the call to include dim=X as an argument.\n"
          ]
        },
        {
          "output_type": "display_data",
          "data": {
            "text/plain": [
              "<Figure size 432x288 with 1 Axes>"
            ],
            "image/png": "[encoded data removed]"
          },
          "metadata": {
            "needs_background": "light"
          }
        },
        {
          "output_type": "display_data",
          "data": {
            "text/plain": [
              "<Figure size 432x288 with 0 Axes>"
            ]
          },
          "metadata": {}
        }
      ]
    },
    {
      "cell_type": "code",
      "source": [
        "sentence_position = []\n",
        "for x in result_for_rouge:\n",
        "  sentence_position.append(x['sentence_position'])\n",
        "\n",
        "sentence_portion = []\n",
        "for comb in sentence_position:\n",
        "  sentence_portion+=list(comb)\n",
        "\n",
        "r1 = 27\n",
        "appear_position = list(range(r1+1))\n",
        "sentence_propotion = []\n",
        "for i in appear_position:\n",
        "  sentence_propotion.append(sentence_portion.count(i)/len(small_test_dataset))"
      ],
      "metadata": {
        "id": "Q0jsnIXa_uEn"
      },
      "execution_count": 71,
      "outputs": []
    },
    {
      "cell_type": "code",
      "source": [
        "plt.bar(list(range(1,r1+2)),sentence_propotion)\n",
        "plt.xlabel('Sentence position (in source document)')\n",
        "plt.ylabel('Proportion of selected sentences')\n",
        "plt.xticks(list(range(1,r1+2)),rotation = -30)\n",
        "plt.show()\n",
        "plt.savefig('/content/drive/MyDrive/sentence_position2.png')\n"
      ],
      "metadata": {
        "id": "13-tz6zN_zEq",
        "colab": {
          "base_uri": "https://localhost:8080/",
          "height": 301
        },
        "outputId": "bc0005c2-b88b-4e95-d6d1-da47f7f351e4"
      },
      "execution_count": 72,
      "outputs": [
        {
          "output_type": "display_data",
          "data": {
            "text/plain": [
              "<Figure size 432x288 with 1 Axes>"
            ],
            "image/png": "[encoded data removed]"
          },
          "metadata": {
            "needs_background": "light"
          }
        },
        {
          "output_type": "display_data",
          "data": {
            "text/plain": [
              "<Figure size 432x288 with 0 Axes>"
            ]
          },
          "metadata": {}
        }
      ]
    },
    {
      "cell_type": "code",
      "source": [
        "import numpy as np\n",
        "width = 0.35  # the width of the bars\n",
        "x = np.arange(1,r1+2)\n",
        "\n",
        "plt.bar(x - width/2, sentence_propotion2, width, label='Sentence Combination')\n",
        "plt.bar(x + width/2, sentence_propotion, width, label='Sentence Score',color='darkorange')\n",
        "\n",
        "plt.xlabel('Sentence position (in source document)')\n",
        "plt.ylabel('Proportion of selected sentences')\n",
        "plt.xticks(list(range(1,r1+2)),rotation = -30)\n",
        "plt.legend()\n",
        "plt.show()\n",
        "plt.savefig('/content/drive/MyDrive/sentence_position3.png')"
      ],
      "metadata": {
        "id": "XDeMdYiZH2Hb",
        "colab": {
          "base_uri": "https://localhost:8080/",
          "height": 301
        },
        "outputId": "bd0735a5-f95e-46a7-d12b-c09b794fc818"
      },
      "execution_count": 73,
      "outputs": [
        {
          "output_type": "display_data",
          "data": {
            "text/plain": [
              "<Figure size 432x288 with 1 Axes>"
            ],
            "image/png": "[encoded data removed]"
          },
          "metadata": {
            "needs_background": "light"
          }
        },
        {
          "output_type": "display_data",
          "data": {
            "text/plain": [
              "<Figure size 432x288 with 0 Axes>"
            ]
          },
          "metadata": {}
        }
      ]
    },
    {
      "cell_type": "code",
      "source": [
        "example = \"This dog certainly is his master's best friend after saving him from a cold and muddy grave. The black pooch was filmed in action as he took a rescue rope out to his owner at the Clarence J. Brown Dam and Reservoir in Springfield, Ohio, on Saturday afternoon. Footage shows the unidentified man then being hauled to shore by firefighters after spending almost two hours in waters\\xa0hovering\\xa0around zero degrees\\xa0Celsius. He apparently got stuck waist-deep in mud while recovering some duck hunting gear. Luckily, he had a cell phone on hand to call 911. However, first responders were unable to get a boat out to him because\\xa0the river was too shallow. They also didn't want to send anyone into the pond in fear\\xa0that\\xa0they would get stuck too. That's when they had the idea to send the dog in with a rescue rope. Go fetch: This dog certainly is his master's best friend after saving him from a cold and muddy grave . The black pooch was filmed in action as he took a rescue rope out to his owner at the Clarence J. Brown Dam and Reservoir in Springfield, Ohio, on Saturday afternoon . All hands on deck: Footage shows the unidentified man then being hauled to shore by firefighters after spending almost two hours in waters hovering around zero degrees Celsius . Wrong move: He apparently got stuck waist-deep in mud while recovering some duck hunting gear . According to the Springfield News-Sun, the man remained in good spirits throughout his recovery and didn't suffer any injuries. Assistant Fire Chief Rick Hughes said that if the ordeal had gone on much longer it could have proved fatal. 'It’s a good thing he had his cellphone considering he was in the mud and water to about his chest and it was about 33 degrees [Fahrenheit],' he added.\",\n",
        "article_text = Btokenizer(example, padding=\"max_length\", truncation=True, return_tensors='pt').to(device)\n",
        "article_attention = model(x = article_text)\n",
        "text_to_extract = Btokenizer.decode(article_text['input_ids'][0].tolist())\n",
        "\n",
        "summary, sentence_position,sentence_score = summary_generator(text_to_extract,article_attention,3)\n",
        "summary"
      ],
      "metadata": {
        "colab": {
          "base_uri": "https://localhost:8080/",
          "height": 177
        },
        "id": "B9Z3voUwKFK_",
        "outputId": "d8c8d036-97a7-49b5-bed5-62520824fdda"
      },
      "execution_count": 76,
      "outputs": [
        {
          "output_type": "stream",
          "name": "stderr",
          "text": [
            "/usr/local/lib/python3.7/dist-packages/ipykernel_launcher.py:30: UserWarning: Implicit dimension choice for softmax has been deprecated. Change the call to include dim=X as an argument.\n"
          ]
        },
        {
          "output_type": "execute_result",
          "data": {
            "text/plain": [
              "\"they also didn't want to send anyone into the pond in fear that they would get stuck too. according to the springfield news - sun, the man remained in good spirits throughout his recovery and didn't suffer any injuries. [SEP] [PAD] [PAD] [PAD] [PAD] [PAD] [PAD] [PAD] [PAD] [PAD] [PAD] [PAD] [PAD] [PAD] [PAD] [PAD] [PAD] [PAD] [PAD] [PAD] [PAD] [PAD] [PAD] [PAD] [PAD] [PAD] [PAD] [PAD] [PAD] [PAD] [PAD] [PAD] [PAD] [PAD] [PAD] [PAD] [PAD] [PAD] [PAD] [PAD] [PAD] [PAD] [PAD] [PAD] [PAD] [PAD] [PAD] [PAD] [PAD] [PAD] [PAD] [PAD] [PAD] [PAD] [PAD] [PAD] [PAD] [PAD] [PAD] [PAD] [PAD] [PAD] [PAD] [PAD] [PAD] [PAD] [PAD] [PAD] [PAD] [PAD] [PAD] [PAD] [PAD] [PAD] [PAD] [PAD] [PAD] [PAD] [PAD] [PAD] [PAD] [PAD] [PAD] [PAD] [PAD] [PAD] [PAD] [PAD] [PAD] [PAD] [PAD] [PAD] [PAD] [PAD] [PAD] [PAD] [PAD] [PAD] [PAD] [PAD] [PAD] [PAD] [PAD] [PAD] [PAD] [PAD] [PAD] [PAD] [PAD] [PAD] [PAD] [PAD] [PAD] [PAD] [PAD] [PAD] [PAD] [PAD] [PAD] [PAD] [PAD] [PAD] [PAD] [PAD] [PAD] [PAD] [PAD] [PAD] [PAD] [PAD] [PAD] [PAD] [PAD] [PAD] [PAD] [PAD] [PAD] [PAD] [PAD] [PAD] [PAD] [PAD]\""
            ],
            "application/vnd.google.colaboratory.intrinsic+json": {
              "type": "string"
            }
          },
          "metadata": {},
          "execution_count": 76
        }
      ]
    }
  ],
  "metadata": {
    "colab": {
      "collapsed_sections": [],
      "name": "NLP_project_milestone3.ipynb",
      "provenance": []
    },
    "kernelspec": {
      "display_name": "Python 3",
      "name": "python3"
    },
    "language_info": {
      "name": "python"
    },
    "widgets": {
      "application/vnd.jupyter.widget-state+json": {
        "c2cdf20a3ff34e5084cacf7822480742": {
          "model_module": "@jupyter-widgets/controls",
          "model_name": "HBoxModel",
          "model_module_version": "1.5.0",
          "state": {
            "_dom_classes": [],
            "_model_module": "@jupyter-widgets/controls",
            "_model_module_version": "1.5.0",
            "_model_name": "HBoxModel",
            "_view_count": null,
            "_view_module": "@jupyter-widgets/controls",
            "_view_module_version": "1.5.0",
            "_view_name": "HBoxView",
            "box_style": "",
            "children": [
              "IPY_MODEL_ffc3286cf2c74bb7affe0c1939829a8d",
              "IPY_MODEL_4969b4963e9449329eac5addf4ccff7f",
              "IPY_MODEL_1d5cccb291d547579bdf1cb72adfb18f"
            ],
            "layout": "IPY_MODEL_3c66df1eb89c4a7abc15d6962bfbcba1"
          }
        },
        "ffc3286cf2c74bb7affe0c1939829a8d": {
          "model_module": "@jupyter-widgets/controls",
          "model_name": "HTMLModel",
          "model_module_version": "1.5.0",
          "state": {
            "_dom_classes": [],
            "_model_module": "@jupyter-widgets/controls",
            "_model_module_version": "1.5.0",
            "_model_name": "HTMLModel",
            "_view_count": null,
            "_view_module": "@jupyter-widgets/controls",
            "_view_module_version": "1.5.0",
            "_view_name": "HTMLView",
            "description": "",
            "description_tooltip": null,
            "layout": "IPY_MODEL_f11488bd5d2040ab90c6801a6871cdb1",
            "placeholder": "​",
            "style": "IPY_MODEL_338ee99a576b41a1bb033acf7e6160a3",
            "value": "100%"
          }
        },
        "4969b4963e9449329eac5addf4ccff7f": {
          "model_module": "@jupyter-widgets/controls",
          "model_name": "FloatProgressModel",
          "model_module_version": "1.5.0",
          "state": {
            "_dom_classes": [],
            "_model_module": "@jupyter-widgets/controls",
            "_model_module_version": "1.5.0",
            "_model_name": "FloatProgressModel",
            "_view_count": null,
            "_view_module": "@jupyter-widgets/controls",
            "_view_module_version": "1.5.0",
            "_view_name": "ProgressView",
            "bar_style": "success",
            "description": "",
            "description_tooltip": null,
            "layout": "IPY_MODEL_5b5aee9a3c6441428be594db6d58c7ad",
            "max": 3,
            "min": 0,
            "orientation": "horizontal",
            "style": "IPY_MODEL_8fe85b3d065f468f80fe49d9333b6687",
            "value": 3
          }
        },
        "1d5cccb291d547579bdf1cb72adfb18f": {
          "model_module": "@jupyter-widgets/controls",
          "model_name": "HTMLModel",
          "model_module_version": "1.5.0",
          "state": {
            "_dom_classes": [],
            "_model_module": "@jupyter-widgets/controls",
            "_model_module_version": "1.5.0",
            "_model_name": "HTMLModel",
            "_view_count": null,
            "_view_module": "@jupyter-widgets/controls",
            "_view_module_version": "1.5.0",
            "_view_name": "HTMLView",
            "description": "",
            "description_tooltip": null,
            "layout": "IPY_MODEL_f5fbba7c266c4866be3e8a340f4bb73c",
            "placeholder": "​",
            "style": "IPY_MODEL_c50896d7704d43e3bfe1958e1ff33193",
            "value": " 3/3 [00:00&lt;00:00, 61.35it/s]"
          }
        },
        "3c66df1eb89c4a7abc15d6962bfbcba1": {
          "model_module": "@jupyter-widgets/base",
          "model_name": "LayoutModel",
          "model_module_version": "1.2.0",
          "state": {
            "_model_module": "@jupyter-widgets/base",
            "_model_module_version": "1.2.0",
            "_model_name": "LayoutModel",
            "_view_count": null,
            "_view_module": "@jupyter-widgets/base",
            "_view_module_version": "1.2.0",
            "_view_name": "LayoutView",
            "align_content": null,
            "align_items": null,
            "align_self": null,
            "border": null,
            "bottom": null,
            "display": null,
            "flex": null,
            "flex_flow": null,
            "grid_area": null,
            "grid_auto_columns": null,
            "grid_auto_flow": null,
            "grid_auto_rows": null,
            "grid_column": null,
            "grid_gap": null,
            "grid_row": null,
            "grid_template_areas": null,
            "grid_template_columns": null,
            "grid_template_rows": null,
            "height": null,
            "justify_content": null,
            "justify_items": null,
            "left": null,
            "margin": null,
            "max_height": null,
            "max_width": null,
            "min_height": null,
            "min_width": null,
            "object_fit": null,
            "object_position": null,
            "order": null,
            "overflow": null,
            "overflow_x": null,
            "overflow_y": null,
            "padding": null,
            "right": null,
            "top": null,
            "visibility": null,
            "width": null
          }
        },
        "f11488bd5d2040ab90c6801a6871cdb1": {
          "model_module": "@jupyter-widgets/base",
          "model_name": "LayoutModel",
          "model_module_version": "1.2.0",
          "state": {
            "_model_module": "@jupyter-widgets/base",
            "_model_module_version": "1.2.0",
            "_model_name": "LayoutModel",
            "_view_count": null,
            "_view_module": "@jupyter-widgets/base",
            "_view_module_version": "1.2.0",
            "_view_name": "LayoutView",
            "align_content": null,
            "align_items": null,
            "align_self": null,
            "border": null,
            "bottom": null,
            "display": null,
            "flex": null,
            "flex_flow": null,
            "grid_area": null,
            "grid_auto_columns": null,
            "grid_auto_flow": null,
            "grid_auto_rows": null,
            "grid_column": null,
            "grid_gap": null,
            "grid_row": null,
            "grid_template_areas": null,
            "grid_template_columns": null,
            "grid_template_rows": null,
            "height": null,
            "justify_content": null,
            "justify_items": null,
            "left": null,
            "margin": null,
            "max_height": null,
            "max_width": null,
            "min_height": null,
            "min_width": null,
            "object_fit": null,
            "object_position": null,
            "order": null,
            "overflow": null,
            "overflow_x": null,
            "overflow_y": null,
            "padding": null,
            "right": null,
            "top": null,
            "visibility": null,
            "width": null
          }
        },
        "338ee99a576b41a1bb033acf7e6160a3": {
          "model_module": "@jupyter-widgets/controls",
          "model_name": "DescriptionStyleModel",
          "model_module_version": "1.5.0",
          "state": {
            "_model_module": "@jupyter-widgets/controls",
            "_model_module_version": "1.5.0",
            "_model_name": "DescriptionStyleModel",
            "_view_count": null,
            "_view_module": "@jupyter-widgets/base",
            "_view_module_version": "1.2.0",
            "_view_name": "StyleView",
            "description_width": ""
          }
        },
        "5b5aee9a3c6441428be594db6d58c7ad": {
          "model_module": "@jupyter-widgets/base",
          "model_name": "LayoutModel",
          "model_module_version": "1.2.0",
          "state": {
            "_model_module": "@jupyter-widgets/base",
            "_model_module_version": "1.2.0",
            "_model_name": "LayoutModel",
            "_view_count": null,
            "_view_module": "@jupyter-widgets/base",
            "_view_module_version": "1.2.0",
            "_view_name": "LayoutView",
            "align_content": null,
            "align_items": null,
            "align_self": null,
            "border": null,
            "bottom": null,
            "display": null,
            "flex": null,
            "flex_flow": null,
            "grid_area": null,
            "grid_auto_columns": null,
            "grid_auto_flow": null,
            "grid_auto_rows": null,
            "grid_column": null,
            "grid_gap": null,
            "grid_row": null,
            "grid_template_areas": null,
            "grid_template_columns": null,
            "grid_template_rows": null,
            "height": null,
            "justify_content": null,
            "justify_items": null,
            "left": null,
            "margin": null,
            "max_height": null,
            "max_width": null,
            "min_height": null,
            "min_width": null,
            "object_fit": null,
            "object_position": null,
            "order": null,
            "overflow": null,
            "overflow_x": null,
            "overflow_y": null,
            "padding": null,
            "right": null,
            "top": null,
            "visibility": null,
            "width": null
          }
        },
        "8fe85b3d065f468f80fe49d9333b6687": {
          "model_module": "@jupyter-widgets/controls",
          "model_name": "ProgressStyleModel",
          "model_module_version": "1.5.0",
          "state": {
            "_model_module": "@jupyter-widgets/controls",
            "_model_module_version": "1.5.0",
            "_model_name": "ProgressStyleModel",
            "_view_count": null,
            "_view_module": "@jupyter-widgets/base",
            "_view_module_version": "1.2.0",
            "_view_name": "StyleView",
            "bar_color": null,
            "description_width": ""
          }
        },
        "f5fbba7c266c4866be3e8a340f4bb73c": {
          "model_module": "@jupyter-widgets/base",
          "model_name": "LayoutModel",
          "model_module_version": "1.2.0",
          "state": {
            "_model_module": "@jupyter-widgets/base",
            "_model_module_version": "1.2.0",
            "_model_name": "LayoutModel",
            "_view_count": null,
            "_view_module": "@jupyter-widgets/base",
            "_view_module_version": "1.2.0",
            "_view_name": "LayoutView",
            "align_content": null,
            "align_items": null,
            "align_self": null,
            "border": null,
            "bottom": null,
            "display": null,
            "flex": null,
            "flex_flow": null,
            "grid_area": null,
            "grid_auto_columns": null,
            "grid_auto_flow": null,
            "grid_auto_rows": null,
            "grid_column": null,
            "grid_gap": null,
            "grid_row": null,
            "grid_template_areas": null,
            "grid_template_columns": null,
            "grid_template_rows": null,
            "height": null,
            "justify_content": null,
            "justify_items": null,
            "left": null,
            "margin": null,
            "max_height": null,
            "max_width": null,
            "min_height": null,
            "min_width": null,
            "object_fit": null,
            "object_position": null,
            "order": null,
            "overflow": null,
            "overflow_x": null,
            "overflow_y": null,
            "padding": null,
            "right": null,
            "top": null,
            "visibility": null,
            "width": null
          }
        },
        "c50896d7704d43e3bfe1958e1ff33193": {
          "model_module": "@jupyter-widgets/controls",
          "model_name": "DescriptionStyleModel",
          "model_module_version": "1.5.0",
          "state": {
            "_model_module": "@jupyter-widgets/controls",
            "_model_module_version": "1.5.0",
            "_model_name": "DescriptionStyleModel",
            "_view_count": null,
            "_view_module": "@jupyter-widgets/base",
            "_view_module_version": "1.2.0",
            "_view_name": "StyleView",
            "description_width": ""
          }
        }
      }
    },
    "accelerator": "GPU"
  },
  "nbformat": 4,
  "nbformat_minor": 0
}